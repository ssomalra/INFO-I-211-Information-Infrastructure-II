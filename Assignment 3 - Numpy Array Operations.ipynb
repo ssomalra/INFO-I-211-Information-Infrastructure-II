{
 "cells": [
  {
   "cell_type": "markdown",
   "id": "c50c9f2b",
   "metadata": {},
   "source": [
    "# Numpy Array Operations Assignment\n",
    "\n",
    "Personal Details\n",
    "- Name: Sahiti Somalraju\n",
    "- Email: ssomalra@iu.edu"
   ]
  },
  {
   "cell_type": "code",
   "execution_count": 4,
   "id": "882e35af",
   "metadata": {},
   "outputs": [],
   "source": [
    "import numpy as np"
   ]
  },
  {
   "cell_type": "markdown",
   "id": "37ca6584",
   "metadata": {},
   "source": [
    "### Question 1\n",
    "Write a NumPy program to test whether none of the elements of the following array is 12.  [[10,1,3], [3,5,12], [7,13,5]]"
   ]
  },
  {
   "cell_type": "code",
   "execution_count": 5,
   "id": "4c506ff0",
   "metadata": {},
   "outputs": [
    {
     "name": "stdout",
     "output_type": "stream",
     "text": [
      "Array:\n",
      " [[10  1  3]\n",
      " [ 3  5 12]\n",
      " [ 7 13  5]]\n",
      "None of the elements in array is 12: False\n"
     ]
    }
   ],
   "source": [
    "A = np.array([[10,1,3],[3,5,12],[7,13,5]])\n",
    "print('Array:\\n', A)\n",
    "print('None of the elements in array is 12:', np.all(A!=12))"
   ]
  },
  {
   "cell_type": "markdown",
   "id": "fc1fdbbf",
   "metadata": {},
   "source": [
    "### Question 2\n",
    "Write a NumPy program to convert the following array to int type: \n",
    "[15.0, 13.0, 28.0, 17.0, 11.0]"
   ]
  },
  {
   "cell_type": "code",
   "execution_count": 15,
   "id": "590a42c4",
   "metadata": {},
   "outputs": [
    {
     "name": "stdout",
     "output_type": "stream",
     "text": [
      "Array:\n",
      " [15. 13. 28. 17. 11.]\n",
      "Array of integers:\n",
      " [15 13 28 17 11]\n"
     ]
    }
   ],
   "source": [
    "A = np.array([15.0,13.0,28.0,17.0,11.0])\n",
    "print('Array:\\n', A)\n",
    "int_A = A.astype(int)\n",
    "print('Array of integers:\\n', int_A)"
   ]
  },
  {
   "cell_type": "markdown",
   "id": "52e9ad1c",
   "metadata": {},
   "source": [
    "### Question 3\n",
    "Write a NumPy program to create a random 2d array 7x7 with 49 elements and compute the mean and standard deviation of the array elements."
   ]
  },
  {
   "cell_type": "code",
   "execution_count": 14,
   "id": "e9cf069c",
   "metadata": {},
   "outputs": [
    {
     "name": "stdout",
     "output_type": "stream",
     "text": [
      "Array:\n",
      " [[39 44 29 48 47 48  3]\n",
      " [ 5 25 38 33 39 21 49]\n",
      " [23 30 24 27 34 33  3]\n",
      " [12 34 11 17 26 28 31]\n",
      " [ 3 43  2 25  8 21 17]\n",
      " [16  8 27 13 35 10 10]\n",
      " [34 33 49  1 30  4 43]]\n",
      "Mean: 25.163265306122447\n",
      "Standard deviation: 14.356036828435924\n"
     ]
    }
   ],
   "source": [
    "arr = np.random.randint(1,50,size=(7,7))\n",
    "print('Array:\\n', arr)\n",
    "\n",
    "#mean\n",
    "print('Mean:', np.mean(arr))\n",
    "\n",
    "#standard deviation\n",
    "print('Standard deviation:', np.std(arr))"
   ]
  },
  {
   "cell_type": "markdown",
   "id": "08ea583f",
   "metadata": {},
   "source": [
    "### Question 4\n",
    "Write a NumPy program to calculate sum of the elements along each row and each column for the following array: [[0,1,3], [6,13,21], [7,13,22]]"
   ]
  },
  {
   "cell_type": "code",
   "execution_count": 3,
   "id": "32e2880a",
   "metadata": {},
   "outputs": [
    {
     "name": "stdout",
     "output_type": "stream",
     "text": [
      "Array:\n",
      " [[ 0  1  3]\n",
      " [ 6 13 21]\n",
      " [ 7 13 22]]\n",
      "Sum: 86\n",
      "Row sum:\n",
      " [ 4 40 42]\n",
      "Column sum:\n",
      " [13 27 46]\n"
     ]
    }
   ],
   "source": [
    "A = np.array([[0,1,3],[6,13,21],[7,13,22]])\n",
    "print('Array:\\n', A)\n",
    "#Sum of all elements in array\n",
    "print('Sum:', np.sum(A))\n",
    "\n",
    "#Sum of elements row-wise\n",
    "print('Row sum:\\n', np.sum(A, axis=1))\n",
    "\n",
    "#Sum of elements column-wise\n",
    "print('Column sum:\\n', np.sum(A, axis=0))"
   ]
  },
  {
   "cell_type": "markdown",
   "id": "89341f04",
   "metadata": {},
   "source": [
    "### Question 5\n",
    "Write a NumPy program to calculate the square of elements in the following 2D array: [[10,11,13], [7,8,9]]"
   ]
  },
  {
   "cell_type": "code",
   "execution_count": 18,
   "id": "291508d8",
   "metadata": {},
   "outputs": [
    {
     "name": "stdout",
     "output_type": "stream",
     "text": [
      "Original Array:\n",
      " [[10 11 13]\n",
      " [ 7  8  9]]\n",
      "Squared Array:\n",
      " [[100 121 169]\n",
      " [ 49  64  81]]\n"
     ]
    }
   ],
   "source": [
    "A = np.array([[10,11,13],[7,8,9]])\n",
    "print('Original Array:\\n', A)\n",
    "print('Squared Array:\\n', A**2)"
   ]
  },
  {
   "cell_type": "markdown",
   "id": "a7ce8c7f",
   "metadata": {},
   "source": [
    "### Question 6\n",
    "Display the names of the months between 2018 and 2019"
   ]
  },
  {
   "cell_type": "code",
   "execution_count": 19,
   "id": "f94fb976",
   "metadata": {},
   "outputs": [
    {
     "name": "stdout",
     "output_type": "stream",
     "text": [
      "Months between 2018 and 2019:\n",
      " ['2018-01' '2018-02' '2018-03' '2018-04' '2018-05' '2018-06' '2018-07'\n",
      " '2018-08' '2018-09' '2018-10' '2018-11' '2018-12']\n"
     ]
    }
   ],
   "source": [
    "print('Months between 2018 and 2019:\\n', np.arange('2018','2019', dtype='datetime64[M]'))\n"
   ]
  },
  {
   "cell_type": "markdown",
   "id": "3d77f209",
   "metadata": {},
   "source": [
    "### Question 7\n",
    "Print the days between 2020-08 and 2020-09"
   ]
  },
  {
   "cell_type": "code",
   "execution_count": 20,
   "id": "5218309f",
   "metadata": {},
   "outputs": [
    {
     "name": "stdout",
     "output_type": "stream",
     "text": [
      "Days between 2020-08 and 2020-09:\n",
      " ['2020-08-01' '2020-08-02' '2020-08-03' '2020-08-04' '2020-08-05'\n",
      " '2020-08-06' '2020-08-07' '2020-08-08' '2020-08-09' '2020-08-10'\n",
      " '2020-08-11' '2020-08-12' '2020-08-13' '2020-08-14' '2020-08-15'\n",
      " '2020-08-16' '2020-08-17' '2020-08-18' '2020-08-19' '2020-08-20'\n",
      " '2020-08-21' '2020-08-22' '2020-08-23' '2020-08-24' '2020-08-25'\n",
      " '2020-08-26' '2020-08-27' '2020-08-28' '2020-08-29' '2020-08-30'\n",
      " '2020-08-31']\n"
     ]
    }
   ],
   "source": [
    "print('Days between 2020-08 and 2020-09:\\n', np.arange('2020-08','2020-09',dtype='datetime64[D]'))"
   ]
  },
  {
   "cell_type": "markdown",
   "id": "0b3e2df1",
   "metadata": {},
   "source": [
    "### Question 8\n",
    "Write a Numpy program to load forestfires dataset in Numpy array and explore it by doing the following:\n",
    "\n",
    "- Print the shape of the dataset\n",
    "- Check the shape of the dataset, excluding the last column\n",
    "- Check the shape of the last column in the dataset\n",
    "- Print the column names (features) up to the last column\n",
    "- Print the last column name\n",
    "- Check the type of all columns in the dataset. excluding the last column\n",
    "- Check the type of the last column in the dataset\n",
    "- Print the value of the 4th column for the 90th sample/data point in the dataset\n",
    "- Print the value of the 7th column for the 300th sample/data point in the dataset"
   ]
  },
  {
   "cell_type": "code",
   "execution_count": 36,
   "id": "36007819",
   "metadata": {},
   "outputs": [
    {
     "name": "stdout",
     "output_type": "stream",
     "text": [
      "Forestfires dataset:\n",
      " [['X' 'Y' 'month' ... 'wind' 'rain' 'area']\n",
      " ['7' '5' 'mar' ... '6.7' '0' '0']\n",
      " ['7' '4' 'oct' ... '0.9' '0' '0']\n",
      " ...\n",
      " ['7' '4' 'aug' ... '6.7' '0' '11.16']\n",
      " ['1' '4' 'aug' ... '4' '0' '0']\n",
      " ['6' '3' 'nov' ... '4.5' '0' '0']]\n"
     ]
    }
   ],
   "source": [
    "forestfire = np.genfromtxt('/Users/sahitisomalraju/Downloads/forestfires.csv', delimiter=',', \n",
    "                           dtype=None, encoding='utf-8')\n",
    "print('Forestfires dataset:\\n', forestfire)"
   ]
  },
  {
   "cell_type": "code",
   "execution_count": 24,
   "id": "e0fb848b",
   "metadata": {},
   "outputs": [
    {
     "name": "stdout",
     "output_type": "stream",
     "text": [
      "Shape of dataset:\n",
      " (518, 13)\n"
     ]
    }
   ],
   "source": [
    "print('Shape of dataset:\\n', forestfire.shape)"
   ]
  },
  {
   "cell_type": "code",
   "execution_count": 26,
   "id": "b141f3e0",
   "metadata": {},
   "outputs": [
    {
     "name": "stdout",
     "output_type": "stream",
     "text": [
      "Shape of dataset, excluding last column:\n",
      " (518, 12)\n"
     ]
    }
   ],
   "source": [
    "print('Shape of dataset, excluding last column:\\n', forestfire[:,:-1].shape)"
   ]
  },
  {
   "cell_type": "code",
   "execution_count": 27,
   "id": "99b4e636",
   "metadata": {},
   "outputs": [
    {
     "name": "stdout",
     "output_type": "stream",
     "text": [
      "Shape of last column in dataset: \n",
      " (518, 1)\n"
     ]
    }
   ],
   "source": [
    "print('Shape of last column in dataset: \\n', forestfire[:,-1:].shape)"
   ]
  },
  {
   "cell_type": "code",
   "execution_count": 37,
   "id": "a3838e23",
   "metadata": {},
   "outputs": [
    {
     "name": "stdout",
     "output_type": "stream",
     "text": [
      "[['X' 'Y' 'month' ... 'wind' 'rain' 'area']\n",
      " ['7' '5' 'mar' ... '6.7' '0' '0']\n",
      " ['7' '4' 'oct' ... '0.9' '0' '0']\n",
      " ...\n",
      " ['7' '4' 'aug' ... '6.7' '0' '11.16']\n",
      " ['1' '4' 'aug' ... '4' '0' '0']\n",
      " ['6' '3' 'nov' ... '4.5' '0' '0']]\n"
     ]
    }
   ],
   "source": [
    "#Reuploaded the data as forestfire_col where parameter names=True so that we can extract the column names\n",
    "forestfire_col = np.genfromtxt('/Users/sahitisomalraju/Downloads/forestfires.csv',\n",
    "                               delimiter=',', names=True, encoding='utf-8')\n",
    "print(forestfire)"
   ]
  },
  {
   "cell_type": "code",
   "execution_count": 39,
   "id": "2600749c",
   "metadata": {},
   "outputs": [
    {
     "name": "stdout",
     "output_type": "stream",
     "text": [
      "Column names:\n",
      " ('X', 'Y', 'month', 'day', 'FFMC', 'DMC', 'DC', 'ISI', 'temp', 'RH', 'wind', 'rain', 'area')\n"
     ]
    }
   ],
   "source": [
    "print('Column names:\\n', forestfire_col.dtype.names)"
   ]
  },
  {
   "cell_type": "code",
   "execution_count": 29,
   "id": "4501a0e1",
   "metadata": {},
   "outputs": [
    {
     "name": "stdout",
     "output_type": "stream",
     "text": [
      "Last column name:\n",
      " area\n"
     ]
    }
   ],
   "source": [
    "print('Last column name:\\n', forestfire[0,-1])"
   ]
  },
  {
   "cell_type": "code",
   "execution_count": 32,
   "id": "0faace2d",
   "metadata": {},
   "outputs": [
    {
     "name": "stdout",
     "output_type": "stream",
     "text": [
      "Type of the columns, except last column:\n",
      " <U7\n"
     ]
    }
   ],
   "source": [
    "print('Type of the columns, except last column:\\n', forestfire[0,:-1].dtype)"
   ]
  },
  {
   "cell_type": "code",
   "execution_count": 31,
   "id": "44579bbb",
   "metadata": {},
   "outputs": [
    {
     "name": "stdout",
     "output_type": "stream",
     "text": [
      "Type of the last column:\n",
      " <U4\n"
     ]
    }
   ],
   "source": [
    "print('Type of the last column:\\n', forestfire[0,-1].dtype)"
   ]
  },
  {
   "cell_type": "code",
   "execution_count": 33,
   "id": "d8ec982c",
   "metadata": {},
   "outputs": [
    {
     "name": "stdout",
     "output_type": "stream",
     "text": [
      "Value of 4th column, 90th sample:\n",
      " sat\n"
     ]
    }
   ],
   "source": [
    "print('Value of 4th column, 90th sample:\\n', forestfire[90,3])"
   ]
  },
  {
   "cell_type": "code",
   "execution_count": 35,
   "id": "7ddde6a3",
   "metadata": {},
   "outputs": [
    {
     "name": "stdout",
     "output_type": "stream",
     "text": [
      "Value of the 7th column, 300th sample:\n",
      " 233.8\n"
     ]
    }
   ],
   "source": [
    "print('Value of the 7th column, 300th sample:\\n', forestfire[300,6])"
   ]
  }
 ],
 "metadata": {
  "kernelspec": {
   "display_name": "Python 3 (ipykernel)",
   "language": "python",
   "name": "python3"
  },
  "language_info": {
   "codemirror_mode": {
    "name": "ipython",
    "version": 3
   },
   "file_extension": ".py",
   "mimetype": "text/x-python",
   "name": "python",
   "nbconvert_exporter": "python",
   "pygments_lexer": "ipython3",
   "version": "3.8.8"
  }
 },
 "nbformat": 4,
 "nbformat_minor": 5
}
