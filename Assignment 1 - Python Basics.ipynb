{
 "cells": [
  {
   "cell_type": "code",
   "execution_count": null,
   "id": "00b8f042",
   "metadata": {},
   "outputs": [],
   "source": [
    "# Name: Sahiti Somalraju\n",
    "# IU Email: ssomalra@iu.edu"
   ]
  },
  {
   "cell_type": "markdown",
   "id": "5b03cede",
   "metadata": {},
   "source": [
    "### Question 1\n",
    "Write a Python program which accepts the user's first and last name and print them in reverse order with a space between them. Either define first and last name or accept from the user."
   ]
  },
  {
   "cell_type": "code",
   "execution_count": 1,
   "id": "05268bae",
   "metadata": {},
   "outputs": [
    {
     "name": "stdout",
     "output_type": "stream",
     "text": [
      "What is your first name: Sahiti\n",
      "What is your last name: Somalraju\n",
      "Somalraju Sahiti\n"
     ]
    }
   ],
   "source": [
    "first = input(\"What is your first name: \")\n",
    "last = input(\"What is your last name: \")\n",
    "print(last + ' ' + first)"
   ]
  },
  {
   "cell_type": "markdown",
   "id": "c5437fe1",
   "metadata": {},
   "source": [
    "### Question 2\n",
    "Write a Python program to find whether a given number (accept from the user) is even or odd, print out an appropriate message to the user."
   ]
  },
  {
   "cell_type": "code",
   "execution_count": 3,
   "id": "92a3efd9",
   "metadata": {},
   "outputs": [
    {
     "name": "stdout",
     "output_type": "stream",
     "text": [
      "Enter a number: 7\n",
      "7 is odd\n"
     ]
    }
   ],
   "source": [
    "num = int(input(\"Enter a number: \"))\n",
    "if num%2 == 0:\n",
    "    print(num, \"is even\")\n",
    "else:\n",
    "    print(num, \"is odd\")"
   ]
  },
  {
   "cell_type": "markdown",
   "id": "40417338",
   "metadata": {},
   "source": [
    "### Question 3\n",
    "Write a Python program to check whether a specified value is contained in a group of values. Either define or accept values from user. For example:\n",
    "- 3 -> [1, 5, 8, 3] : True\n",
    "- -1 -> [1, 5, 8, 3] : False"
   ]
  },
  {
   "cell_type": "code",
   "execution_count": 16,
   "id": "8e9f079a",
   "metadata": {},
   "outputs": [
    {
     "name": "stdout",
     "output_type": "stream",
     "text": [
      "True\n",
      "True\n"
     ]
    }
   ],
   "source": [
    "def isValue(num, lst):\n",
    "    if num in lst:\n",
    "        return 'True'\n",
    "    else:\n",
    "        return 'False'\n",
    "print(isValue(3, [1,2,3]))\n",
    "print(isValue(-1, [1,2,3]))"
   ]
  },
  {
   "cell_type": "markdown",
   "id": "0996584c",
   "metadata": {},
   "source": [
    "### Question 4\n",
    "Write a Python program that will accept/define the base and height of a triangle and compute the area."
   ]
  },
  {
   "cell_type": "code",
   "execution_count": 5,
   "id": "e2a0b9ca",
   "metadata": {},
   "outputs": [
    {
     "name": "stdout",
     "output_type": "stream",
     "text": [
      "Enter the base of the triangle: 2\n",
      "Enter the height of the triangle: 3\n",
      "3.0\n"
     ]
    }
   ],
   "source": [
    "base = int(input(\"Enter the base of the triangle: \"))\n",
    "height = int(input(\"Enter the height of the triangle: \"))\n",
    "area = (base*height)/2\n",
    "print(area)"
   ]
  },
  {
   "cell_type": "markdown",
   "id": "c4903898",
   "metadata": {},
   "source": [
    "### Question 5\n",
    "Question 5: Write a Python program to compute the future value of a specified principal amount, rate of interest, and a number of years. Either define the values or accept from the user.\n",
    "- Test Data : amt = 10000, int = 3.5, years = 7\n",
    "- Expected Output : 12722.79"
   ]
  },
  {
   "cell_type": "code",
   "execution_count": 6,
   "id": "48d8638a",
   "metadata": {},
   "outputs": [
    {
     "name": "stdout",
     "output_type": "stream",
     "text": [
      "12722.79262766573\n"
     ]
    }
   ],
   "source": [
    "def interestRate(amt, rate, years):\n",
    "    t = 1\n",
    "    while t <= years:\n",
    "        amt = amt*(1+rate/100)\n",
    "        t += 1\n",
    "    return amt\n",
    "print(interestRate(10000,3.5,7))"
   ]
  },
  {
   "cell_type": "markdown",
   "id": "f2d19e55",
   "metadata": {},
   "source": [
    "### Bonus Question\n",
    "Write a Python program to find the median among three given numbers."
   ]
  },
  {
   "cell_type": "code",
   "execution_count": 3,
   "id": "4a1f40f7",
   "metadata": {},
   "outputs": [
    {
     "name": "stdout",
     "output_type": "stream",
     "text": [
      "2\n"
     ]
    }
   ],
   "source": [
    "list = [1,2,3]\n",
    "print(list[1])"
   ]
  }
 ],
 "metadata": {
  "kernelspec": {
   "display_name": "Python 3 (ipykernel)",
   "language": "python",
   "name": "python3"
  },
  "language_info": {
   "codemirror_mode": {
    "name": "ipython",
    "version": 3
   },
   "file_extension": ".py",
   "mimetype": "text/x-python",
   "name": "python",
   "nbconvert_exporter": "python",
   "pygments_lexer": "ipython3",
   "version": "3.8.8"
  }
 },
 "nbformat": 4,
 "nbformat_minor": 5
}
