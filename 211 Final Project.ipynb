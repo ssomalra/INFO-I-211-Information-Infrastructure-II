{
 "cells": [
  {
   "cell_type": "markdown",
   "id": "be7e3948",
   "metadata": {},
   "source": [
    "## 1. Importing Libraries "
   ]
  },
  {
   "cell_type": "code",
   "execution_count": 2,
   "id": "e2079f30",
   "metadata": {},
   "outputs": [],
   "source": [
    "import numpy as np\n",
    "import pandas as pd\n",
    "import seaborn as sns\n",
    "import matplotlib.pyplot as plt\n",
    "from wordcloud import WordCloud, STOPWORDS\n",
    "from sklearn import preprocessing"
   ]
  },
  {
   "cell_type": "markdown",
   "id": "037cd57a",
   "metadata": {},
   "source": [
    "## 2. Dataset Information"
   ]
  },
  {
   "cell_type": "code",
   "execution_count": 69,
   "id": "7a721101",
   "metadata": {},
   "outputs": [
    {
     "data": {
      "text/html": [
       "<div>\n",
       "<style scoped>\n",
       "    .dataframe tbody tr th:only-of-type {\n",
       "        vertical-align: middle;\n",
       "    }\n",
       "\n",
       "    .dataframe tbody tr th {\n",
       "        vertical-align: top;\n",
       "    }\n",
       "\n",
       "    .dataframe thead th {\n",
       "        text-align: right;\n",
       "    }\n",
       "</style>\n",
       "<table border=\"1\" class=\"dataframe\">\n",
       "  <thead>\n",
       "    <tr style=\"text-align: right;\">\n",
       "      <th></th>\n",
       "      <th>show_id</th>\n",
       "      <th>type</th>\n",
       "      <th>title</th>\n",
       "      <th>director</th>\n",
       "      <th>cast</th>\n",
       "      <th>country</th>\n",
       "      <th>date_added</th>\n",
       "      <th>release_year</th>\n",
       "      <th>rating</th>\n",
       "      <th>duration</th>\n",
       "      <th>listed_in</th>\n",
       "      <th>description</th>\n",
       "    </tr>\n",
       "  </thead>\n",
       "  <tbody>\n",
       "    <tr>\n",
       "      <th>0</th>\n",
       "      <td>s1</td>\n",
       "      <td>Movie</td>\n",
       "      <td>Dick Johnson Is Dead</td>\n",
       "      <td>Kirsten Johnson</td>\n",
       "      <td>NaN</td>\n",
       "      <td>United States</td>\n",
       "      <td>September 25, 2021</td>\n",
       "      <td>2020</td>\n",
       "      <td>PG-13</td>\n",
       "      <td>90 min</td>\n",
       "      <td>Documentaries</td>\n",
       "      <td>As her father nears the end of his life, filmm...</td>\n",
       "    </tr>\n",
       "    <tr>\n",
       "      <th>1</th>\n",
       "      <td>s2</td>\n",
       "      <td>TV Show</td>\n",
       "      <td>Blood &amp; Water</td>\n",
       "      <td>NaN</td>\n",
       "      <td>Ama Qamata, Khosi Ngema, Gail Mabalane, Thaban...</td>\n",
       "      <td>South Africa</td>\n",
       "      <td>September 24, 2021</td>\n",
       "      <td>2021</td>\n",
       "      <td>TV-MA</td>\n",
       "      <td>2 Seasons</td>\n",
       "      <td>International TV Shows, TV Dramas, TV Mysteries</td>\n",
       "      <td>After crossing paths at a party, a Cape Town t...</td>\n",
       "    </tr>\n",
       "    <tr>\n",
       "      <th>2</th>\n",
       "      <td>s3</td>\n",
       "      <td>TV Show</td>\n",
       "      <td>Ganglands</td>\n",
       "      <td>Julien Leclercq</td>\n",
       "      <td>Sami Bouajila, Tracy Gotoas, Samuel Jouy, Nabi...</td>\n",
       "      <td>NaN</td>\n",
       "      <td>September 24, 2021</td>\n",
       "      <td>2021</td>\n",
       "      <td>TV-MA</td>\n",
       "      <td>1 Season</td>\n",
       "      <td>Crime TV Shows, International TV Shows, TV Act...</td>\n",
       "      <td>To protect his family from a powerful drug lor...</td>\n",
       "    </tr>\n",
       "    <tr>\n",
       "      <th>3</th>\n",
       "      <td>s4</td>\n",
       "      <td>TV Show</td>\n",
       "      <td>Jailbirds New Orleans</td>\n",
       "      <td>NaN</td>\n",
       "      <td>NaN</td>\n",
       "      <td>NaN</td>\n",
       "      <td>September 24, 2021</td>\n",
       "      <td>2021</td>\n",
       "      <td>TV-MA</td>\n",
       "      <td>1 Season</td>\n",
       "      <td>Docuseries, Reality TV</td>\n",
       "      <td>Feuds, flirtations and toilet talk go down amo...</td>\n",
       "    </tr>\n",
       "    <tr>\n",
       "      <th>4</th>\n",
       "      <td>s5</td>\n",
       "      <td>TV Show</td>\n",
       "      <td>Kota Factory</td>\n",
       "      <td>NaN</td>\n",
       "      <td>Mayur More, Jitendra Kumar, Ranjan Raj, Alam K...</td>\n",
       "      <td>India</td>\n",
       "      <td>September 24, 2021</td>\n",
       "      <td>2021</td>\n",
       "      <td>TV-MA</td>\n",
       "      <td>2 Seasons</td>\n",
       "      <td>International TV Shows, Romantic TV Shows, TV ...</td>\n",
       "      <td>In a city of coaching centers known to train I...</td>\n",
       "    </tr>\n",
       "  </tbody>\n",
       "</table>\n",
       "</div>"
      ],
      "text/plain": [
       "  show_id     type                  title         director  \\\n",
       "0      s1    Movie   Dick Johnson Is Dead  Kirsten Johnson   \n",
       "1      s2  TV Show          Blood & Water              NaN   \n",
       "2      s3  TV Show              Ganglands  Julien Leclercq   \n",
       "3      s4  TV Show  Jailbirds New Orleans              NaN   \n",
       "4      s5  TV Show           Kota Factory              NaN   \n",
       "\n",
       "                                                cast        country  \\\n",
       "0                                                NaN  United States   \n",
       "1  Ama Qamata, Khosi Ngema, Gail Mabalane, Thaban...   South Africa   \n",
       "2  Sami Bouajila, Tracy Gotoas, Samuel Jouy, Nabi...            NaN   \n",
       "3                                                NaN            NaN   \n",
       "4  Mayur More, Jitendra Kumar, Ranjan Raj, Alam K...          India   \n",
       "\n",
       "           date_added  release_year rating   duration  \\\n",
       "0  September 25, 2021          2020  PG-13     90 min   \n",
       "1  September 24, 2021          2021  TV-MA  2 Seasons   \n",
       "2  September 24, 2021          2021  TV-MA   1 Season   \n",
       "3  September 24, 2021          2021  TV-MA   1 Season   \n",
       "4  September 24, 2021          2021  TV-MA  2 Seasons   \n",
       "\n",
       "                                           listed_in  \\\n",
       "0                                      Documentaries   \n",
       "1    International TV Shows, TV Dramas, TV Mysteries   \n",
       "2  Crime TV Shows, International TV Shows, TV Act...   \n",
       "3                             Docuseries, Reality TV   \n",
       "4  International TV Shows, Romantic TV Shows, TV ...   \n",
       "\n",
       "                                         description  \n",
       "0  As her father nears the end of his life, filmm...  \n",
       "1  After crossing paths at a party, a Cape Town t...  \n",
       "2  To protect his family from a powerful drug lor...  \n",
       "3  Feuds, flirtations and toilet talk go down amo...  \n",
       "4  In a city of coaching centers known to train I...  "
      ]
     },
     "execution_count": 69,
     "metadata": {},
     "output_type": "execute_result"
    }
   ],
   "source": [
    "#Load dataset\n",
    "netflix_data = pd.read_csv(\"netflix_titles.csv\")\n",
    "netflix_data.head()"
   ]
  },
  {
   "cell_type": "code",
   "execution_count": 70,
   "id": "bcdbfb58",
   "metadata": {},
   "outputs": [
    {
     "data": {
      "text/plain": [
       "(8807, 12)"
      ]
     },
     "execution_count": 70,
     "metadata": {},
     "output_type": "execute_result"
    }
   ],
   "source": [
    "#Shape of dataset\n",
    "netflix_data.shape"
   ]
  },
  {
   "cell_type": "code",
   "execution_count": 71,
   "id": "21fd04b5",
   "metadata": {},
   "outputs": [
    {
     "data": {
      "text/plain": [
       "Index(['show_id', 'type', 'title', 'director', 'cast', 'country', 'date_added',\n",
       "       'release_year', 'rating', 'duration', 'listed_in', 'description'],\n",
       "      dtype='object')"
      ]
     },
     "execution_count": 71,
     "metadata": {},
     "output_type": "execute_result"
    }
   ],
   "source": [
    "#Column names\n",
    "netflix_data.columns"
   ]
  },
  {
   "cell_type": "code",
   "execution_count": 72,
   "id": "82a33daf",
   "metadata": {},
   "outputs": [
    {
     "name": "stdout",
     "output_type": "stream",
     "text": [
      "<class 'pandas.core.frame.DataFrame'>\n",
      "RangeIndex: 8807 entries, 0 to 8806\n",
      "Data columns (total 12 columns):\n",
      " #   Column        Non-Null Count  Dtype \n",
      "---  ------        --------------  ----- \n",
      " 0   show_id       8807 non-null   object\n",
      " 1   type          8807 non-null   object\n",
      " 2   title         8807 non-null   object\n",
      " 3   director      6173 non-null   object\n",
      " 4   cast          7982 non-null   object\n",
      " 5   country       7976 non-null   object\n",
      " 6   date_added    8797 non-null   object\n",
      " 7   release_year  8807 non-null   int64 \n",
      " 8   rating        8803 non-null   object\n",
      " 9   duration      8804 non-null   object\n",
      " 10  listed_in     8807 non-null   object\n",
      " 11  description   8807 non-null   object\n",
      "dtypes: int64(1), object(11)\n",
      "memory usage: 825.8+ KB\n"
     ]
    }
   ],
   "source": [
    "#Dataset information\n",
    "netflix_data.info()"
   ]
  },
  {
   "cell_type": "code",
   "execution_count": 73,
   "id": "c2fe6a71",
   "metadata": {},
   "outputs": [
    {
     "data": {
      "text/html": [
       "<div>\n",
       "<style scoped>\n",
       "    .dataframe tbody tr th:only-of-type {\n",
       "        vertical-align: middle;\n",
       "    }\n",
       "\n",
       "    .dataframe tbody tr th {\n",
       "        vertical-align: top;\n",
       "    }\n",
       "\n",
       "    .dataframe thead th {\n",
       "        text-align: right;\n",
       "    }\n",
       "</style>\n",
       "<table border=\"1\" class=\"dataframe\">\n",
       "  <thead>\n",
       "    <tr style=\"text-align: right;\">\n",
       "      <th></th>\n",
       "      <th>release_year</th>\n",
       "    </tr>\n",
       "  </thead>\n",
       "  <tbody>\n",
       "    <tr>\n",
       "      <th>count</th>\n",
       "      <td>8807.000000</td>\n",
       "    </tr>\n",
       "    <tr>\n",
       "      <th>mean</th>\n",
       "      <td>2014.180198</td>\n",
       "    </tr>\n",
       "    <tr>\n",
       "      <th>std</th>\n",
       "      <td>8.819312</td>\n",
       "    </tr>\n",
       "    <tr>\n",
       "      <th>min</th>\n",
       "      <td>1925.000000</td>\n",
       "    </tr>\n",
       "    <tr>\n",
       "      <th>25%</th>\n",
       "      <td>2013.000000</td>\n",
       "    </tr>\n",
       "    <tr>\n",
       "      <th>50%</th>\n",
       "      <td>2017.000000</td>\n",
       "    </tr>\n",
       "    <tr>\n",
       "      <th>75%</th>\n",
       "      <td>2019.000000</td>\n",
       "    </tr>\n",
       "    <tr>\n",
       "      <th>max</th>\n",
       "      <td>2021.000000</td>\n",
       "    </tr>\n",
       "  </tbody>\n",
       "</table>\n",
       "</div>"
      ],
      "text/plain": [
       "       release_year\n",
       "count   8807.000000\n",
       "mean    2014.180198\n",
       "std        8.819312\n",
       "min     1925.000000\n",
       "25%     2013.000000\n",
       "50%     2017.000000\n",
       "75%     2019.000000\n",
       "max     2021.000000"
      ]
     },
     "execution_count": 73,
     "metadata": {},
     "output_type": "execute_result"
    }
   ],
   "source": [
    "# Dataset summary\n",
    "netflix_data.describe()"
   ]
  },
  {
   "cell_type": "code",
   "execution_count": 74,
   "id": "4291bb47",
   "metadata": {},
   "outputs": [
    {
     "data": {
      "text/plain": [
       "show_id         8807\n",
       "type               2\n",
       "title           8807\n",
       "director        4528\n",
       "cast            7692\n",
       "country          748\n",
       "date_added      1767\n",
       "release_year      74\n",
       "rating            17\n",
       "duration         220\n",
       "listed_in        514\n",
       "description     8775\n",
       "dtype: int64"
      ]
     },
     "execution_count": 74,
     "metadata": {},
     "output_type": "execute_result"
    }
   ],
   "source": [
    "# Number of unique values per feature\n",
    "netflix_data.nunique()"
   ]
  },
  {
   "cell_type": "code",
   "execution_count": 75,
   "id": "890d1e79",
   "metadata": {},
   "outputs": [
    {
     "data": {
      "text/plain": [
       "show_id            0\n",
       "type               0\n",
       "title              0\n",
       "director        2634\n",
       "cast             825\n",
       "country          831\n",
       "date_added        10\n",
       "release_year       0\n",
       "rating             4\n",
       "duration           3\n",
       "listed_in          0\n",
       "description        0\n",
       "dtype: int64"
      ]
     },
     "execution_count": 75,
     "metadata": {},
     "output_type": "execute_result"
    }
   ],
   "source": [
    "#Number of null values in dataset\n",
    "netflix_data.isna().sum()"
   ]
  },
  {
   "cell_type": "markdown",
   "id": "ce0caa42",
   "metadata": {},
   "source": [
    "## 3. Data Preprocessing "
   ]
  },
  {
   "cell_type": "code",
   "execution_count": 76,
   "id": "f0fe22ee",
   "metadata": {},
   "outputs": [],
   "source": [
    "#Filling in null values for dirctor, cast, and country with \"Unknown\"\n",
    "netflix_data[['director', 'cast', 'country']] = netflix_data[['director', 'cast', 'country']].fillna('Unknown')"
   ]
  },
  {
   "cell_type": "code",
   "execution_count": 77,
   "id": "c7469af4",
   "metadata": {},
   "outputs": [
    {
     "data": {
      "text/plain": [
       "show_id          0\n",
       "type             0\n",
       "title            0\n",
       "director         0\n",
       "cast             0\n",
       "country          0\n",
       "date_added      10\n",
       "release_year     0\n",
       "rating           4\n",
       "duration         3\n",
       "listed_in        0\n",
       "description      0\n",
       "dtype: int64"
      ]
     },
     "execution_count": 77,
     "metadata": {},
     "output_type": "execute_result"
    }
   ],
   "source": [
    "netflix_data.isna().sum()"
   ]
  },
  {
   "cell_type": "code",
   "execution_count": 78,
   "id": "d2888604",
   "metadata": {},
   "outputs": [],
   "source": [
    "# Dropping N/A or null values\n",
    "netflix_data.dropna(inplace=True)"
   ]
  },
  {
   "cell_type": "code",
   "execution_count": 79,
   "id": "57735398",
   "metadata": {},
   "outputs": [
    {
     "data": {
      "text/plain": [
       "(8790, 12)"
      ]
     },
     "execution_count": 79,
     "metadata": {},
     "output_type": "execute_result"
    }
   ],
   "source": [
    "netflix_data.shape"
   ]
  },
  {
   "cell_type": "code",
   "execution_count": 80,
   "id": "ca0c4fcd",
   "metadata": {},
   "outputs": [
    {
     "data": {
      "text/plain": [
       "show_id         0\n",
       "type            0\n",
       "title           0\n",
       "director        0\n",
       "cast            0\n",
       "country         0\n",
       "date_added      0\n",
       "release_year    0\n",
       "rating          0\n",
       "duration        0\n",
       "listed_in       0\n",
       "description     0\n",
       "dtype: int64"
      ]
     },
     "execution_count": 80,
     "metadata": {},
     "output_type": "execute_result"
    }
   ],
   "source": [
    "netflix_data.isna().sum()"
   ]
  },
  {
   "cell_type": "code",
   "execution_count": 81,
   "id": "37d9318c",
   "metadata": {},
   "outputs": [],
   "source": [
    "#Creating a new column 'year_added' for data analysis\n",
    "year = []\n",
    "for date in netflix_data['date_added']:\n",
    "    year.append(int(date[-4:]))\n",
    "year_added = pd.Series(year)\n",
    "netflix_data['year_added'] = year_added.values\n",
    "\n",
    "#date_added column is dropped\n",
    "netflix_data = netflix_data.drop(labels='date_added', axis=1)"
   ]
  },
  {
   "cell_type": "code",
   "execution_count": 82,
   "id": "88f9e8e6",
   "metadata": {},
   "outputs": [
    {
     "data": {
      "text/html": [
       "<div>\n",
       "<style scoped>\n",
       "    .dataframe tbody tr th:only-of-type {\n",
       "        vertical-align: middle;\n",
       "    }\n",
       "\n",
       "    .dataframe tbody tr th {\n",
       "        vertical-align: top;\n",
       "    }\n",
       "\n",
       "    .dataframe thead th {\n",
       "        text-align: right;\n",
       "    }\n",
       "</style>\n",
       "<table border=\"1\" class=\"dataframe\">\n",
       "  <thead>\n",
       "    <tr style=\"text-align: right;\">\n",
       "      <th></th>\n",
       "      <th>show_id</th>\n",
       "      <th>type</th>\n",
       "      <th>title</th>\n",
       "      <th>director</th>\n",
       "      <th>cast</th>\n",
       "      <th>country</th>\n",
       "      <th>release_year</th>\n",
       "      <th>rating</th>\n",
       "      <th>duration</th>\n",
       "      <th>listed_in</th>\n",
       "      <th>description</th>\n",
       "      <th>year_added</th>\n",
       "    </tr>\n",
       "  </thead>\n",
       "  <tbody>\n",
       "    <tr>\n",
       "      <th>0</th>\n",
       "      <td>s1</td>\n",
       "      <td>Movie</td>\n",
       "      <td>Dick Johnson Is Dead</td>\n",
       "      <td>Kirsten Johnson</td>\n",
       "      <td>Unknown</td>\n",
       "      <td>United States</td>\n",
       "      <td>2020</td>\n",
       "      <td>PG-13</td>\n",
       "      <td>90 min</td>\n",
       "      <td>Documentaries</td>\n",
       "      <td>As her father nears the end of his life, filmm...</td>\n",
       "      <td>2021</td>\n",
       "    </tr>\n",
       "    <tr>\n",
       "      <th>1</th>\n",
       "      <td>s2</td>\n",
       "      <td>TV Show</td>\n",
       "      <td>Blood &amp; Water</td>\n",
       "      <td>Unknown</td>\n",
       "      <td>Ama Qamata, Khosi Ngema, Gail Mabalane, Thaban...</td>\n",
       "      <td>South Africa</td>\n",
       "      <td>2021</td>\n",
       "      <td>TV-MA</td>\n",
       "      <td>2 Seasons</td>\n",
       "      <td>International TV Shows, TV Dramas, TV Mysteries</td>\n",
       "      <td>After crossing paths at a party, a Cape Town t...</td>\n",
       "      <td>2021</td>\n",
       "    </tr>\n",
       "    <tr>\n",
       "      <th>2</th>\n",
       "      <td>s3</td>\n",
       "      <td>TV Show</td>\n",
       "      <td>Ganglands</td>\n",
       "      <td>Julien Leclercq</td>\n",
       "      <td>Sami Bouajila, Tracy Gotoas, Samuel Jouy, Nabi...</td>\n",
       "      <td>Unknown</td>\n",
       "      <td>2021</td>\n",
       "      <td>TV-MA</td>\n",
       "      <td>1 Season</td>\n",
       "      <td>Crime TV Shows, International TV Shows, TV Act...</td>\n",
       "      <td>To protect his family from a powerful drug lor...</td>\n",
       "      <td>2021</td>\n",
       "    </tr>\n",
       "    <tr>\n",
       "      <th>3</th>\n",
       "      <td>s4</td>\n",
       "      <td>TV Show</td>\n",
       "      <td>Jailbirds New Orleans</td>\n",
       "      <td>Unknown</td>\n",
       "      <td>Unknown</td>\n",
       "      <td>Unknown</td>\n",
       "      <td>2021</td>\n",
       "      <td>TV-MA</td>\n",
       "      <td>1 Season</td>\n",
       "      <td>Docuseries, Reality TV</td>\n",
       "      <td>Feuds, flirtations and toilet talk go down amo...</td>\n",
       "      <td>2021</td>\n",
       "    </tr>\n",
       "    <tr>\n",
       "      <th>4</th>\n",
       "      <td>s5</td>\n",
       "      <td>TV Show</td>\n",
       "      <td>Kota Factory</td>\n",
       "      <td>Unknown</td>\n",
       "      <td>Mayur More, Jitendra Kumar, Ranjan Raj, Alam K...</td>\n",
       "      <td>India</td>\n",
       "      <td>2021</td>\n",
       "      <td>TV-MA</td>\n",
       "      <td>2 Seasons</td>\n",
       "      <td>International TV Shows, Romantic TV Shows, TV ...</td>\n",
       "      <td>In a city of coaching centers known to train I...</td>\n",
       "      <td>2021</td>\n",
       "    </tr>\n",
       "  </tbody>\n",
       "</table>\n",
       "</div>"
      ],
      "text/plain": [
       "  show_id     type                  title         director  \\\n",
       "0      s1    Movie   Dick Johnson Is Dead  Kirsten Johnson   \n",
       "1      s2  TV Show          Blood & Water          Unknown   \n",
       "2      s3  TV Show              Ganglands  Julien Leclercq   \n",
       "3      s4  TV Show  Jailbirds New Orleans          Unknown   \n",
       "4      s5  TV Show           Kota Factory          Unknown   \n",
       "\n",
       "                                                cast        country  \\\n",
       "0                                            Unknown  United States   \n",
       "1  Ama Qamata, Khosi Ngema, Gail Mabalane, Thaban...   South Africa   \n",
       "2  Sami Bouajila, Tracy Gotoas, Samuel Jouy, Nabi...        Unknown   \n",
       "3                                            Unknown        Unknown   \n",
       "4  Mayur More, Jitendra Kumar, Ranjan Raj, Alam K...          India   \n",
       "\n",
       "   release_year rating   duration  \\\n",
       "0          2020  PG-13     90 min   \n",
       "1          2021  TV-MA  2 Seasons   \n",
       "2          2021  TV-MA   1 Season   \n",
       "3          2021  TV-MA   1 Season   \n",
       "4          2021  TV-MA  2 Seasons   \n",
       "\n",
       "                                           listed_in  \\\n",
       "0                                      Documentaries   \n",
       "1    International TV Shows, TV Dramas, TV Mysteries   \n",
       "2  Crime TV Shows, International TV Shows, TV Act...   \n",
       "3                             Docuseries, Reality TV   \n",
       "4  International TV Shows, Romantic TV Shows, TV ...   \n",
       "\n",
       "                                         description  year_added  \n",
       "0  As her father nears the end of his life, filmm...        2021  \n",
       "1  After crossing paths at a party, a Cape Town t...        2021  \n",
       "2  To protect his family from a powerful drug lor...        2021  \n",
       "3  Feuds, flirtations and toilet talk go down amo...        2021  \n",
       "4  In a city of coaching centers known to train I...        2021  "
      ]
     },
     "execution_count": 82,
     "metadata": {},
     "output_type": "execute_result"
    }
   ],
   "source": [
    "netflix_data.head(5)"
   ]
  },
  {
   "cell_type": "code",
   "execution_count": 83,
   "id": "b6d693e2",
   "metadata": {},
   "outputs": [
    {
     "name": "stdout",
     "output_type": "stream",
     "text": [
      "<class 'pandas.core.frame.DataFrame'>\n",
      "Int64Index: 8790 entries, 0 to 8806\n",
      "Data columns (total 12 columns):\n",
      " #   Column        Non-Null Count  Dtype \n",
      "---  ------        --------------  ----- \n",
      " 0   show_id       8790 non-null   object\n",
      " 1   type          8790 non-null   object\n",
      " 2   title         8790 non-null   object\n",
      " 3   director      8790 non-null   object\n",
      " 4   cast          8790 non-null   object\n",
      " 5   country       8790 non-null   object\n",
      " 6   release_year  8790 non-null   int64 \n",
      " 7   rating        8790 non-null   object\n",
      " 8   duration      8790 non-null   object\n",
      " 9   listed_in     8790 non-null   object\n",
      " 10  description   8790 non-null   object\n",
      " 11  year_added    8790 non-null   int64 \n",
      "dtypes: int64(2), object(10)\n",
      "memory usage: 892.7+ KB\n"
     ]
    }
   ],
   "source": [
    "#Notice how there are no more null values and there's a new column added\n",
    "netflix_data.info()"
   ]
  },
  {
   "cell_type": "markdown",
   "id": "ece8afff",
   "metadata": {},
   "source": [
    "## 4. Data Visualization "
   ]
  },
  {
   "cell_type": "markdown",
   "id": "47235e53",
   "metadata": {},
   "source": [
    "### a. Growth of Netflix Over the Years "
   ]
  },
  {
   "cell_type": "code",
   "execution_count": 16,
   "id": "9513b5dd",
   "metadata": {},
   "outputs": [
    {
     "data": {
      "image/png": "[encoded data removed]",
      "text/plain": [
       "<Figure size 432x288 with 1 Axes>"
      ]
     },
     "metadata": {
      "needs_background": "light"
     },
     "output_type": "display_data"
    }
   ],
   "source": [
    "years = sns.histplot(data=netflix_data, x='year_added', bins=14, color='firebrick')\n",
    "years.set(xlabel='Years', title='Growth of Netflix Over the Years')\n",
    "plt.show()"
   ]
  },
  {
   "cell_type": "markdown",
   "id": "22efc4cc",
   "metadata": {},
   "source": [
    "Most movies and TV shows were added to Netflix in 2019; afterwards, it began to decline. This could have been due to the Covid-19 pandemic that hit in 2020."
   ]
  },
  {
   "cell_type": "markdown",
   "id": "baf733fa",
   "metadata": {},
   "source": [
    "### b. Distribution of Release Years "
   ]
  },
  {
   "cell_type": "code",
   "execution_count": 17,
   "id": "0393cdf6",
   "metadata": {},
   "outputs": [
    {
     "data": {
      "image/png": "[encoded data removed]",
      "text/plain": [
       "<Figure size 432x288 with 1 Axes>"
      ]
     },
     "metadata": {
      "needs_background": "light"
     },
     "output_type": "display_data"
    }
   ],
   "source": [
    "release_years = sns.histplot(data=netflix_data, x='release_year', bins=30, color='firebrick')\n",
    "release_years.set(xlabel='Years', title='Distribution of Release Years')\n",
    "plt.show()"
   ]
  },
  {
   "cell_type": "markdown",
   "id": "2a1d4e60",
   "metadata": {},
   "source": [
    "It seems that the movies and TV shows were released mostly from 2019 and 2020. Since most shows go into production and there is a significant amount of time before they are released, shows were still able to be released during the pandemic."
   ]
  },
  {
   "cell_type": "markdown",
   "id": "5bd116a2",
   "metadata": {},
   "source": [
    "### c. Types of Shows"
   ]
  },
  {
   "cell_type": "code",
   "execution_count": 18,
   "id": "9df18f61",
   "metadata": {},
   "outputs": [],
   "source": [
    "count = netflix_data.groupby('type').count()['show_id']\n",
    "labels = count.index\n",
    "colors = ['indianred', 'mistyrose']"
   ]
  },
  {
   "cell_type": "code",
   "execution_count": 19,
   "id": "14aef5ac",
   "metadata": {},
   "outputs": [
    {
     "name": "stdout",
     "output_type": "stream",
     "text": [
      "\n"
     ]
    },
    {
     "data": {
      "image/png": "[encoded data removed]",
      "text/plain": [
       "<Figure size 432x288 with 1 Axes>"
      ]
     },
     "metadata": {},
     "output_type": "display_data"
    }
   ],
   "source": [
    "plt.pie(count, labels=labels, autopct='%1.1f%%', colors=colors)\n",
    "plt.title('Types of Shows on Netflix')\n",
    "plt.setp('size=8')\n",
    "plt.show()"
   ]
  },
  {
   "cell_type": "markdown",
   "id": "5beaba43",
   "metadata": {},
   "source": [
    "The dataset contains listings for more movies (about 70%) than TV shows (about 30%)."
   ]
  },
  {
   "cell_type": "markdown",
   "id": "688c0dc5",
   "metadata": {},
   "source": [
    "### d. Origin of Shows "
   ]
  },
  {
   "cell_type": "code",
   "execution_count": 20,
   "id": "f2e4b711",
   "metadata": {},
   "outputs": [
    {
     "data": {
      "text/plain": [
       "United States     2809\n",
       "India              972\n",
       "Unknown            829\n",
       "United Kingdom     418\n",
       "Japan              243\n",
       "South Korea        199\n",
       "Canada             181\n",
       "Spain              145\n",
       "France             124\n",
       "Mexico             110\n",
       "Egypt              106\n",
       "Name: country, dtype: int64"
      ]
     },
     "execution_count": 20,
     "metadata": {},
     "output_type": "execute_result"
    }
   ],
   "source": [
    "# Viewing the top 10 countries\n",
    "netflix_data['country'].value_counts().head(11)"
   ]
  },
  {
   "cell_type": "code",
   "execution_count": 21,
   "id": "c5f16f1e",
   "metadata": {},
   "outputs": [],
   "source": [
    "country_data = netflix_data.copy\n",
    "country_data = netflix_data[netflix_data['country'].isin(['United States', 'India', 'United Kingdom', 'Japan', 'South Korea', \n",
    "                                                          'Canada', 'Spain', 'France', 'Mexico', 'Egypt'])]\n",
    "labels = country_data['country'].unique()\n",
    "counts = country_data['country'].value_counts()\n",
    "colors2 = ['firebrick', 'darksalmon', 'maroon', 'indianred', 'brown', 'salmon', 'darkred', 'tomato', 'lightcoral', 'lightsalmon']\n"
   ]
  },
  {
   "cell_type": "code",
   "execution_count": 22,
   "id": "2db674c1",
   "metadata": {
    "scrolled": true
   },
   "outputs": [
    {
     "data": {
      "image/png": "[encoded data removed]",
      "text/plain": [
       "<Figure size 432x288 with 1 Axes>"
      ]
     },
     "metadata": {
      "needs_background": "light"
     },
     "output_type": "display_data"
    }
   ],
   "source": [
    "country = sns.countplot(data=country_data, y='country', palette=colors2)\n",
    "country.set(ylabel='Country', title='Origin of Shows')\n",
    "plt.show()"
   ]
  },
  {
   "cell_type": "markdown",
   "id": "5ae9d03c",
   "metadata": {},
   "source": [
    "Most of the movies and TV shows added on Netflix were originated in the United States, with India being a distant second"
   ]
  },
  {
   "cell_type": "markdown",
   "id": "a34b6c80",
   "metadata": {},
   "source": [
    "### e. Top 10 Genres"
   ]
  },
  {
   "cell_type": "code",
   "execution_count": 23,
   "id": "de7d6643",
   "metadata": {},
   "outputs": [
    {
     "data": {
      "text/plain": [
       "Dramas, International Movies                        362\n",
       "Documentaries                                       359\n",
       "Stand-Up Comedy                                     334\n",
       "Comedies, Dramas, International Movies              274\n",
       "Dramas, Independent Movies, International Movies    252\n",
       "Kids' TV                                            219\n",
       "Children & Family Movies                            215\n",
       "Children & Family Movies, Comedies                  201\n",
       "Documentaries, International Movies                 186\n",
       "Dramas, International Movies, Romantic Movies       180\n",
       "Comedies, International Movies                      176\n",
       "Name: listed_in, dtype: int64"
      ]
     },
     "execution_count": 23,
     "metadata": {},
     "output_type": "execute_result"
    }
   ],
   "source": [
    "#Viewing top 10 genres\n",
    "netflix_data['listed_in'].value_counts().head(11)"
   ]
  },
  {
   "cell_type": "code",
   "execution_count": 24,
   "id": "f29d79de",
   "metadata": {},
   "outputs": [
    {
     "data": {
      "image/png": "[encoded data removed]",
      "text/plain": [
       "<Figure size 432x288 with 1 Axes>"
      ]
     },
     "metadata": {
      "needs_background": "light"
     },
     "output_type": "display_data"
    }
   ],
   "source": [
    "genres = sns.countplot(data=netflix_data, y=netflix_data['listed_in'], order=netflix_data['listed_in'].value_counts().index[:10], palette=colors2)\n",
    "genres.set(xlabel='Count', ylabel='Genre', title='Distribution of Top 10 Genres')\n",
    "plt.show()"
   ]
  },
  {
   "cell_type": "markdown",
   "id": "3cff2454",
   "metadata": {},
   "source": [
    "The plot shows the distribution of the top 10 genres. It seems like “dramas, international movies” are the most common shows found on Netflix, even though most of the shows originated in the United States. Documentaries and stand-up comedy following after."
   ]
  },
  {
   "cell_type": "markdown",
   "id": "e8c21281",
   "metadata": {},
   "source": [
    "### f. Common Words in Movie/TV Show Descripions "
   ]
  },
  {
   "cell_type": "code",
   "execution_count": 89,
   "id": "d8ef4333",
   "metadata": {},
   "outputs": [
    {
     "data": {
      "image/png": "[encoded data removed]",
      "text/plain": [
       "<Figure size 432x288 with 1 Axes>"
      ]
     },
     "metadata": {
      "needs_background": "light"
     },
     "output_type": "display_data"
    }
   ],
   "source": [
    "wordcloud = WordCloud(background_color='white', stopwords=STOPWORDS, max_words=200, max_font_size=40, random_state=42, colormap='Reds').generate(str(netflix_data['description']))\n",
    "plt.axis('off')\n",
    "plt.imshow(wordcloud)\n",
    "plt.show()"
   ]
  },
  {
   "cell_type": "markdown",
   "id": "349b19b9",
   "metadata": {},
   "source": [
    "The most popular words were “family”, “life”, and “town” in movie and TV show descriptions. "
   ]
  },
  {
   "cell_type": "markdown",
   "id": "2dba3377",
   "metadata": {},
   "source": [
    "### g. Average Duration of Movies Per Year Added"
   ]
  },
  {
   "cell_type": "code",
   "execution_count": 84,
   "id": "e5d131e2",
   "metadata": {},
   "outputs": [
    {
     "data": {
      "text/html": [
       "<div>\n",
       "<style scoped>\n",
       "    .dataframe tbody tr th:only-of-type {\n",
       "        vertical-align: middle;\n",
       "    }\n",
       "\n",
       "    .dataframe tbody tr th {\n",
       "        vertical-align: top;\n",
       "    }\n",
       "\n",
       "    .dataframe thead th {\n",
       "        text-align: right;\n",
       "    }\n",
       "</style>\n",
       "<table border=\"1\" class=\"dataframe\">\n",
       "  <thead>\n",
       "    <tr style=\"text-align: right;\">\n",
       "      <th></th>\n",
       "      <th>Duration</th>\n",
       "      <th>Year Added</th>\n",
       "      <th>Duration Mins</th>\n",
       "    </tr>\n",
       "  </thead>\n",
       "  <tbody>\n",
       "    <tr>\n",
       "      <th>0</th>\n",
       "      <td>90 min</td>\n",
       "      <td>2021</td>\n",
       "      <td>90</td>\n",
       "    </tr>\n",
       "    <tr>\n",
       "      <th>6</th>\n",
       "      <td>91 min</td>\n",
       "      <td>2021</td>\n",
       "      <td>91</td>\n",
       "    </tr>\n",
       "    <tr>\n",
       "      <th>7</th>\n",
       "      <td>125 min</td>\n",
       "      <td>2021</td>\n",
       "      <td>125</td>\n",
       "    </tr>\n",
       "    <tr>\n",
       "      <th>9</th>\n",
       "      <td>104 min</td>\n",
       "      <td>2021</td>\n",
       "      <td>104</td>\n",
       "    </tr>\n",
       "    <tr>\n",
       "      <th>12</th>\n",
       "      <td>127 min</td>\n",
       "      <td>2021</td>\n",
       "      <td>127</td>\n",
       "    </tr>\n",
       "    <tr>\n",
       "      <th>...</th>\n",
       "      <td>...</td>\n",
       "      <td>...</td>\n",
       "      <td>...</td>\n",
       "    </tr>\n",
       "    <tr>\n",
       "      <th>8801</th>\n",
       "      <td>96 min</td>\n",
       "      <td>2016</td>\n",
       "      <td>96</td>\n",
       "    </tr>\n",
       "    <tr>\n",
       "      <th>8802</th>\n",
       "      <td>158 min</td>\n",
       "      <td>2019</td>\n",
       "      <td>158</td>\n",
       "    </tr>\n",
       "    <tr>\n",
       "      <th>8804</th>\n",
       "      <td>88 min</td>\n",
       "      <td>2019</td>\n",
       "      <td>88</td>\n",
       "    </tr>\n",
       "    <tr>\n",
       "      <th>8805</th>\n",
       "      <td>88 min</td>\n",
       "      <td>2020</td>\n",
       "      <td>88</td>\n",
       "    </tr>\n",
       "    <tr>\n",
       "      <th>8806</th>\n",
       "      <td>111 min</td>\n",
       "      <td>2019</td>\n",
       "      <td>111</td>\n",
       "    </tr>\n",
       "  </tbody>\n",
       "</table>\n",
       "<p>6126 rows × 3 columns</p>\n",
       "</div>"
      ],
      "text/plain": [
       "     Duration  Year Added  Duration Mins\n",
       "0      90 min        2021             90\n",
       "6      91 min        2021             91\n",
       "7     125 min        2021            125\n",
       "9     104 min        2021            104\n",
       "12    127 min        2021            127\n",
       "...       ...         ...            ...\n",
       "8801   96 min        2016             96\n",
       "8802  158 min        2019            158\n",
       "8804   88 min        2019             88\n",
       "8805   88 min        2020             88\n",
       "8806  111 min        2019            111\n",
       "\n",
       "[6126 rows x 3 columns]"
      ]
     },
     "execution_count": 84,
     "metadata": {},
     "output_type": "execute_result"
    }
   ],
   "source": [
    "#Creating a new DataFrame that contains the duration and year_added for just movies.\n",
    "movie_durations = netflix_data.loc[netflix_data['type']=='Movie', 'duration']\n",
    "movie_years = netflix_data.loc[netflix_data['type']=='Movie', 'year_added']\n",
    "movie_df = pd.DataFrame({'Duration':movie_durations, 'Year Added':movie_years})\n",
    "\n",
    "#Preprocessing the duration column for movies to extract just the integer and adding \n",
    "#the values in a new column\n",
    "movies_time = []\n",
    "for time in movie_df['Duration']:\n",
    "    movies_time.append(int(time[:-4]))\n",
    "movies_duration = pd.Series(movies_time)\n",
    "movie_df['Duration Mins'] = movies_duration.values\n",
    "movie_df"
   ]
  },
  {
   "cell_type": "code",
   "execution_count": 90,
   "id": "d15c8408",
   "metadata": {},
   "outputs": [
    {
     "data": {
      "image/png": "[encoded data removed]",
      "text/plain": [
       "<Figure size 432x288 with 1 Axes>"
      ]
     },
     "metadata": {
      "needs_background": "light"
     },
     "output_type": "display_data"
    }
   ],
   "source": [
    "#Plotting the average duration per year\n",
    "movie_duration_means = movie_df.groupby('Year Added').mean()\n",
    "movie_duration_means.plot(title='Average Duration of Movies Per Year', xlabel='Year Added', ylabel='Duration (by season)', color='indianred', legend=False)\n",
    "plt.show()"
   ]
  },
  {
   "cell_type": "markdown",
   "id": "a0f4c0d1",
   "metadata": {},
   "source": [
    "The drastic decrease in movie durations in 2012 may be caused by the lack of data of movies during that year and the film could have been a short movie. After 2018, the average duration of movies increased. This may be because people are spending more time at home during the pandemic and have more time to watch a movie."
   ]
  },
  {
   "cell_type": "markdown",
   "id": "4f396967",
   "metadata": {},
   "source": [
    "### h. Average Duration of TV Shows Per Year Added"
   ]
  },
  {
   "cell_type": "code",
   "execution_count": 85,
   "id": "370f3fa6",
   "metadata": {},
   "outputs": [
    {
     "data": {
      "text/html": [
       "<div>\n",
       "<style scoped>\n",
       "    .dataframe tbody tr th:only-of-type {\n",
       "        vertical-align: middle;\n",
       "    }\n",
       "\n",
       "    .dataframe tbody tr th {\n",
       "        vertical-align: top;\n",
       "    }\n",
       "\n",
       "    .dataframe thead th {\n",
       "        text-align: right;\n",
       "    }\n",
       "</style>\n",
       "<table border=\"1\" class=\"dataframe\">\n",
       "  <thead>\n",
       "    <tr style=\"text-align: right;\">\n",
       "      <th></th>\n",
       "      <th>Duration</th>\n",
       "      <th>Year Added</th>\n",
       "      <th>Duration Szns</th>\n",
       "    </tr>\n",
       "  </thead>\n",
       "  <tbody>\n",
       "    <tr>\n",
       "      <th>1</th>\n",
       "      <td>2 Seasons</td>\n",
       "      <td>2021</td>\n",
       "      <td>2</td>\n",
       "    </tr>\n",
       "    <tr>\n",
       "      <th>2</th>\n",
       "      <td>1 Season</td>\n",
       "      <td>2021</td>\n",
       "      <td>1</td>\n",
       "    </tr>\n",
       "    <tr>\n",
       "      <th>3</th>\n",
       "      <td>1 Season</td>\n",
       "      <td>2021</td>\n",
       "      <td>1</td>\n",
       "    </tr>\n",
       "    <tr>\n",
       "      <th>4</th>\n",
       "      <td>2 Seasons</td>\n",
       "      <td>2021</td>\n",
       "      <td>2</td>\n",
       "    </tr>\n",
       "    <tr>\n",
       "      <th>5</th>\n",
       "      <td>1 Season</td>\n",
       "      <td>2021</td>\n",
       "      <td>1</td>\n",
       "    </tr>\n",
       "    <tr>\n",
       "      <th>...</th>\n",
       "      <td>...</td>\n",
       "      <td>...</td>\n",
       "      <td>...</td>\n",
       "    </tr>\n",
       "    <tr>\n",
       "      <th>8795</th>\n",
       "      <td>2 Seasons</td>\n",
       "      <td>2018</td>\n",
       "      <td>2</td>\n",
       "    </tr>\n",
       "    <tr>\n",
       "      <th>8796</th>\n",
       "      <td>2 Seasons</td>\n",
       "      <td>2017</td>\n",
       "      <td>2</td>\n",
       "    </tr>\n",
       "    <tr>\n",
       "      <th>8797</th>\n",
       "      <td>3 Seasons</td>\n",
       "      <td>2018</td>\n",
       "      <td>3</td>\n",
       "    </tr>\n",
       "    <tr>\n",
       "      <th>8800</th>\n",
       "      <td>1 Season</td>\n",
       "      <td>2016</td>\n",
       "      <td>1</td>\n",
       "    </tr>\n",
       "    <tr>\n",
       "      <th>8803</th>\n",
       "      <td>2 Seasons</td>\n",
       "      <td>2019</td>\n",
       "      <td>2</td>\n",
       "    </tr>\n",
       "  </tbody>\n",
       "</table>\n",
       "<p>2664 rows × 3 columns</p>\n",
       "</div>"
      ],
      "text/plain": [
       "       Duration  Year Added  Duration Szns\n",
       "1     2 Seasons        2021              2\n",
       "2      1 Season        2021              1\n",
       "3      1 Season        2021              1\n",
       "4     2 Seasons        2021              2\n",
       "5      1 Season        2021              1\n",
       "...         ...         ...            ...\n",
       "8795  2 Seasons        2018              2\n",
       "8796  2 Seasons        2017              2\n",
       "8797  3 Seasons        2018              3\n",
       "8800   1 Season        2016              1\n",
       "8803  2 Seasons        2019              2\n",
       "\n",
       "[2664 rows x 3 columns]"
      ]
     },
     "execution_count": 85,
     "metadata": {},
     "output_type": "execute_result"
    }
   ],
   "source": [
    "#Creating a new DataFrame that contains the duration and year_added for just TV shows.\n",
    "tv_durations = netflix_data.loc[netflix_data['type']=='TV Show', 'duration']\n",
    "tv_years = netflix_data.loc[netflix_data['type']=='TV Show', 'year_added']\n",
    "tv_df = pd.DataFrame({'Duration':tv_durations, 'Year Added':tv_years})\n",
    "\n",
    "#Preprocessing the duration column for TV shows to extract just the integer and \n",
    "#adding the values in a new column\n",
    "tv_show_time = []\n",
    "for time in tv_df['Duration']:\n",
    "    if 'Seasons' in time:\n",
    "        tv_show_time.append(int(time[:-8]))\n",
    "    else:\n",
    "        tv_show_time.append(int(time[:1]))\n",
    "tv_show_duration = pd.Series(tv_show_time)\n",
    "tv_df['Duration Szns'] = tv_show_duration.values\n",
    "tv_df"
   ]
  },
  {
   "cell_type": "code",
   "execution_count": 91,
   "id": "d3264984",
   "metadata": {},
   "outputs": [
    {
     "data": {
      "image/png": "[encoded data removed]",
      "text/plain": [
       "<Figure size 432x288 with 1 Axes>"
      ]
     },
     "metadata": {
      "needs_background": "light"
     },
     "output_type": "display_data"
    }
   ],
   "source": [
    "tv_duration_means = tv_df.groupby('Year Added').mean()\n",
    "tv_duration_means.plot(kind='line', title='Average Duration of TV Shows Per Year', xlabel='Year Added', ylabel='Duration (by season)', color='indianred', legend=False)\n",
    "plt.show()\n"
   ]
  },
  {
   "cell_type": "markdown",
   "id": "3fab3a93",
   "metadata": {},
   "source": [
    "2014 had the longest average duration of TV shows (at about 5 seasons). After 2014, the duration of TV shows drastically decreased to about 1-2 seasons in 2016. It seems like the duration of TV shows is starting to increase again after 2016 -- could also be because people are spending more time at home due to the pandemic so the number of seasons are increasing."
   ]
  },
  {
   "cell_type": "markdown",
   "id": "ba7eb275",
   "metadata": {},
   "source": [
    "### i. Year Added vs Number of Movies/TV Shows"
   ]
  },
  {
   "cell_type": "code",
   "execution_count": 30,
   "id": "30f37017",
   "metadata": {},
   "outputs": [
    {
     "data": {
      "image/png": "[encoded data removed]",
      "text/plain": [
       "<Figure size 720x360 with 2 Axes>"
      ]
     },
     "metadata": {
      "needs_background": "light"
     },
     "output_type": "display_data"
    }
   ],
   "source": [
    "graph = sns.FacetGrid(netflix_data, col='type', height=5, aspect=1, hue='type', palette=colors)\n",
    "graph.map(sns.histplot, 'year_added', bins=15)\n",
    "plt.show()\n"
   ]
  },
  {
   "cell_type": "markdown",
   "id": "859701f6",
   "metadata": {},
   "source": [
    "It can be observed that both the number of movies and number of TV shows added to Netflix increased until it hit a peak between 2019 and 2020. Afterwards, the number of movies and TV shows added decreased. "
   ]
  },
  {
   "cell_type": "markdown",
   "id": "b2be5589",
   "metadata": {},
   "source": [
    "### j. Correlation Matrix"
   ]
  },
  {
   "cell_type": "code",
   "execution_count": 93,
   "id": "3c41c16b",
   "metadata": {},
   "outputs": [],
   "source": [
    "#Encode all categorical variables we want to observe\n",
    "LabelEncoder = preprocessing.LabelEncoder()\n",
    "netflix_data['type'] = LabelEncoder.fit_transform(netflix_data['type'])\n",
    "netflix_data['country'] = LabelEncoder.fit_transform(netflix_data['country'])\n",
    "netflix_data['listed_in'] = LabelEncoder.fit_transform(netflix_data['listed_in'])\n",
    "netflix_data['duration'] = LabelEncoder.fit_transform(netflix_data['duration'])"
   ]
  },
  {
   "cell_type": "code",
   "execution_count": 94,
   "id": "032c3a86",
   "metadata": {},
   "outputs": [
    {
     "data": {
      "image/png": "[encoded data removed]",
      "text/plain": [
       "<Figure size 1008x576 with 2 Axes>"
      ]
     },
     "metadata": {
      "needs_background": "light"
     },
     "output_type": "display_data"
    }
   ],
   "source": [
    "plt.figure(figsize=(14,8))\n",
    "sns.heatmap(netflix_data.corr(), annot=True, cmap=\"Reds\")\n",
    "plt.savefig('/Users/sahitisomalraju/Documents/INFO-B 211/heatmap.png')\n",
    "\n",
    "plt.show()"
   ]
  },
  {
   "cell_type": "markdown",
   "id": "7ea8653f",
   "metadata": {},
   "source": [
    "It can be observed that the type of production on Netflix (movie or TV show) is somewhat correlated to listed_in (0.31). The relsease year and listed_in seems to be somewhat correlated as well (0.2)"
   ]
  },
  {
   "cell_type": "markdown",
   "id": "cf1a6586",
   "metadata": {},
   "source": [
    "## 5. Curve Fitting For Prediction\n",
    "How many movies/tv shows will be added to Netflix in 2022 and 2023?"
   ]
  },
  {
   "cell_type": "markdown",
   "id": "fa868e33",
   "metadata": {},
   "source": [
    "### Getting Number of Movies and TV Shows per Year "
   ]
  },
  {
   "cell_type": "code",
   "execution_count": 36,
   "id": "23b7548e",
   "metadata": {},
   "outputs": [
    {
     "data": {
      "text/plain": [
       "year_added\n",
       "2008       2\n",
       "2009       2\n",
       "2010       1\n",
       "2011      13\n",
       "2012       3\n",
       "2013      11\n",
       "2014      24\n",
       "2015      82\n",
       "2016     426\n",
       "2017    1185\n",
       "2018    1648\n",
       "2019    2016\n",
       "2020    1879\n",
       "2021    1498\n",
       "Name: type, dtype: int64"
      ]
     },
     "execution_count": 36,
     "metadata": {},
     "output_type": "execute_result"
    }
   ],
   "source": [
    "#Getting the counts of movies and TV shows per year added\n",
    "y = netflix_data.groupby('year_added')['type'].count()\n",
    "y"
   ]
  },
  {
   "cell_type": "code",
   "execution_count": 37,
   "id": "736972af",
   "metadata": {},
   "outputs": [
    {
     "data": {
      "text/html": [
       "<div>\n",
       "<style scoped>\n",
       "    .dataframe tbody tr th:only-of-type {\n",
       "        vertical-align: middle;\n",
       "    }\n",
       "\n",
       "    .dataframe tbody tr th {\n",
       "        vertical-align: top;\n",
       "    }\n",
       "\n",
       "    .dataframe thead th {\n",
       "        text-align: right;\n",
       "    }\n",
       "</style>\n",
       "<table border=\"1\" class=\"dataframe\">\n",
       "  <thead>\n",
       "    <tr style=\"text-align: right;\">\n",
       "      <th></th>\n",
       "      <th>year</th>\n",
       "      <th>count</th>\n",
       "    </tr>\n",
       "  </thead>\n",
       "  <tbody>\n",
       "    <tr>\n",
       "      <th>0</th>\n",
       "      <td>2008</td>\n",
       "      <td>2</td>\n",
       "    </tr>\n",
       "    <tr>\n",
       "      <th>1</th>\n",
       "      <td>2009</td>\n",
       "      <td>2</td>\n",
       "    </tr>\n",
       "    <tr>\n",
       "      <th>2</th>\n",
       "      <td>2010</td>\n",
       "      <td>1</td>\n",
       "    </tr>\n",
       "    <tr>\n",
       "      <th>3</th>\n",
       "      <td>2011</td>\n",
       "      <td>13</td>\n",
       "    </tr>\n",
       "    <tr>\n",
       "      <th>4</th>\n",
       "      <td>2012</td>\n",
       "      <td>3</td>\n",
       "    </tr>\n",
       "    <tr>\n",
       "      <th>5</th>\n",
       "      <td>2013</td>\n",
       "      <td>11</td>\n",
       "    </tr>\n",
       "    <tr>\n",
       "      <th>6</th>\n",
       "      <td>2014</td>\n",
       "      <td>24</td>\n",
       "    </tr>\n",
       "    <tr>\n",
       "      <th>7</th>\n",
       "      <td>2015</td>\n",
       "      <td>82</td>\n",
       "    </tr>\n",
       "    <tr>\n",
       "      <th>8</th>\n",
       "      <td>2016</td>\n",
       "      <td>426</td>\n",
       "    </tr>\n",
       "    <tr>\n",
       "      <th>9</th>\n",
       "      <td>2017</td>\n",
       "      <td>1185</td>\n",
       "    </tr>\n",
       "    <tr>\n",
       "      <th>10</th>\n",
       "      <td>2018</td>\n",
       "      <td>1648</td>\n",
       "    </tr>\n",
       "    <tr>\n",
       "      <th>11</th>\n",
       "      <td>2019</td>\n",
       "      <td>2016</td>\n",
       "    </tr>\n",
       "    <tr>\n",
       "      <th>12</th>\n",
       "      <td>2020</td>\n",
       "      <td>1879</td>\n",
       "    </tr>\n",
       "    <tr>\n",
       "      <th>13</th>\n",
       "      <td>2021</td>\n",
       "      <td>1498</td>\n",
       "    </tr>\n",
       "  </tbody>\n",
       "</table>\n",
       "</div>"
      ],
      "text/plain": [
       "    year  count\n",
       "0   2008      2\n",
       "1   2009      2\n",
       "2   2010      1\n",
       "3   2011     13\n",
       "4   2012      3\n",
       "5   2013     11\n",
       "6   2014     24\n",
       "7   2015     82\n",
       "8   2016    426\n",
       "9   2017   1185\n",
       "10  2018   1648\n",
       "11  2019   2016\n",
       "12  2020   1879\n",
       "13  2021   1498"
      ]
     },
     "execution_count": 37,
     "metadata": {},
     "output_type": "execute_result"
    }
   ],
   "source": [
    "#Adding the data from the previous cell into a DataFrame\n",
    "df = pd.DataFrame({'year':[2008,2009,2010,2011,2012,2013,2014,2015,2016,2017,2018,2019,2020,2021],\n",
    "                  'count':[2,2,1,13,3,11,24,82,426,1185,1648,2016,1879,1498]})\n",
    "df"
   ]
  },
  {
   "cell_type": "code",
   "execution_count": 39,
   "id": "8bcc736e",
   "metadata": {},
   "outputs": [],
   "source": [
    "#Setting each column to a variable\n",
    "x = df['year']\n",
    "y = df['count']"
   ]
  },
  {
   "cell_type": "markdown",
   "id": "e706e42d",
   "metadata": {},
   "source": [
    "###  Fit polynomial models up to degree 8"
   ]
  },
  {
   "cell_type": "code",
   "execution_count": 40,
   "id": "604313dd",
   "metadata": {},
   "outputs": [
    {
     "name": "stderr",
     "output_type": "stream",
     "text": [
      "/Users/sahitisomalraju/opt/anaconda3/lib/python3.8/site-packages/IPython/core/interactiveshell.py:3444: RankWarning: Polyfit may be poorly conditioned\n",
      "  exec(code_obj, self.user_global_ns, self.user_ns)\n",
      "/Users/sahitisomalraju/opt/anaconda3/lib/python3.8/site-packages/IPython/core/interactiveshell.py:3444: RankWarning: Polyfit may be poorly conditioned\n",
      "  exec(code_obj, self.user_global_ns, self.user_ns)\n",
      "/Users/sahitisomalraju/opt/anaconda3/lib/python3.8/site-packages/IPython/core/interactiveshell.py:3444: RankWarning: Polyfit may be poorly conditioned\n",
      "  exec(code_obj, self.user_global_ns, self.user_ns)\n",
      "/Users/sahitisomalraju/opt/anaconda3/lib/python3.8/site-packages/IPython/core/interactiveshell.py:3444: RankWarning: Polyfit may be poorly conditioned\n",
      "  exec(code_obj, self.user_global_ns, self.user_ns)\n"
     ]
    }
   ],
   "source": [
    "model1 = np.poly1d(np.polyfit(x, y, 1))\n",
    "model2 = np.poly1d(np.polyfit(x, y, 2))\n",
    "model3 = np.poly1d(np.polyfit(x, y, 3))\n",
    "model4 = np.poly1d(np.polyfit(x, y, 4))\n",
    "model5 = np.poly1d(np.polyfit(x, y, 5))\n",
    "model6 = np.poly1d(np.polyfit(x, y, 6))\n",
    "model7 = np.poly1d(np.polyfit(x, y, 7))\n",
    "model8 = np.poly1d(np.polyfit(x, y, 8))"
   ]
  },
  {
   "cell_type": "markdown",
   "id": "4aed45a6",
   "metadata": {},
   "source": [
    "### Add fitted polynomial lines to scatterplot "
   ]
  },
  {
   "cell_type": "code",
   "execution_count": 62,
   "id": "87f17803",
   "metadata": {},
   "outputs": [
    {
     "data": {
      "image/png": "[encoded data removed]",
      "text/plain": [
       "<Figure size 432x288 with 1 Axes>"
      ]
     },
     "metadata": {
      "needs_background": "light"
     },
     "output_type": "display_data"
    }
   ],
   "source": [
    "polyline = np.linspace(2008, 2021, 14)\n",
    "plt.scatter(x, y)\n",
    "\n",
    "plt.plot(polyline, model1(polyline), color='green', label='model 1')\n",
    "plt.plot(polyline, model2(polyline), color='red', label='model 2')\n",
    "plt.plot(polyline, model3(polyline), color='purple', label='model 3')\n",
    "plt.plot(polyline, model4(polyline), color='blue', label='model 4')\n",
    "plt.plot(polyline, model5(polyline), color='orange', label='model 5')\n",
    "plt.plot(polyline, model6(polyline), color='yellow', label='model 6')\n",
    "plt.plot(polyline, model7(polyline), color='black', label='model 7')\n",
    "plt.plot(polyline, model8(polyline), color='pink', label='model 8')\n",
    "\n",
    "plt.xlabel('Year')\n",
    "plt.ylabel('Number of Movies and TV Shows')\n",
    "plt.title('Number of Movies and TV Shows Added on Neflix Per Year')\n",
    "plt.legend()\n",
    "plt.show()"
   ]
  },
  {
   "cell_type": "markdown",
   "id": "626b141e",
   "metadata": {},
   "source": [
    "As the number of degrees in the polynomial models increase, it seems that the curve is better fitted. "
   ]
  },
  {
   "cell_type": "markdown",
   "id": "50eebc5e",
   "metadata": {},
   "source": [
    "### Calculate Adjusted R-squared "
   ]
  },
  {
   "cell_type": "code",
   "execution_count": 42,
   "id": "7209d496",
   "metadata": {},
   "outputs": [
    {
     "name": "stdout",
     "output_type": "stream",
     "text": [
      "{'r_squared': 0.7322433583088357}\n",
      "{'r_squared': 0.8120769465196069}\n",
      "{'r_squared': 0.85533702917138}\n",
      "{'r_squared': 0.9697876705248536}\n",
      "{'r_squared': 0.9661371288552945}\n",
      "{'r_squared': 0.9613759653733874}\n",
      "{'r_squared': 0.9709423607726997}\n",
      "{'r_squared': 0.9664717412818274}\n"
     ]
    },
    {
     "name": "stderr",
     "output_type": "stream",
     "text": [
      "/var/folders/gg/43rs151955l3gqpq_cqvf1y40000gn/T/ipykernel_64174/1300713776.py:19: RankWarning: Polyfit may be poorly conditioned\n",
      "  print(adjR(x, y, 5))\n",
      "/var/folders/gg/43rs151955l3gqpq_cqvf1y40000gn/T/ipykernel_64174/1300713776.py:20: RankWarning: Polyfit may be poorly conditioned\n",
      "  print(adjR(x, y, 6))\n",
      "/var/folders/gg/43rs151955l3gqpq_cqvf1y40000gn/T/ipykernel_64174/1300713776.py:21: RankWarning: Polyfit may be poorly conditioned\n",
      "  print(adjR(x, y, 7))\n",
      "/var/folders/gg/43rs151955l3gqpq_cqvf1y40000gn/T/ipykernel_64174/1300713776.py:22: RankWarning: Polyfit may be poorly conditioned\n",
      "  print(adjR(x, y, 8))\n"
     ]
    }
   ],
   "source": [
    "#define function to calculate adjusted r-squared\n",
    "def adjR(x, y, degree):\n",
    "    results = {}\n",
    "    coeffs = np.polyfit(x, y, degree)\n",
    "    p = np.poly1d(coeffs)\n",
    "    yhat = p(x)\n",
    "    ybar = np.sum(y)/len(y)\n",
    "    ssreg = np.sum((yhat-ybar)**2)\n",
    "    sstot = np.sum((y - ybar)**2)\n",
    "    results['r_squared'] = 1- (((1-(ssreg/sstot))*(len(y)-1))/(len(y)-degree-1))\n",
    "\n",
    "    return results\n",
    "\n",
    "#Calculate adjusted R-squared of each model\n",
    "print(adjR(x, y, 1))\n",
    "print(adjR(x, y, 2))\n",
    "print(adjR(x, y, 3))\n",
    "print(adjR(x, y, 4))\n",
    "print(adjR(x, y, 5))\n",
    "print(adjR(x, y, 6))\n",
    "print(adjR(x, y, 7))\n",
    "print(adjR(x, y, 8))"
   ]
  },
  {
   "cell_type": "markdown",
   "id": "134d0463",
   "metadata": {},
   "source": [
    "From the output, it looks like the model with polynomial degree 7 has the highest adjusted R-squared value (about 0.971). This means that model 7 best fits the data compared to the other models. "
   ]
  },
  {
   "cell_type": "markdown",
   "id": "9c72b2dd",
   "metadata": {},
   "source": [
    "### Visualize Final Curve "
   ]
  },
  {
   "cell_type": "code",
   "execution_count": 60,
   "id": "2f0d73fe",
   "metadata": {
    "scrolled": true
   },
   "outputs": [
    {
     "data": {
      "image/png": "[encoded data removed]",
      "text/plain": [
       "<Figure size 432x288 with 1 Axes>"
      ]
     },
     "metadata": {
      "needs_background": "light"
     },
     "output_type": "display_data"
    }
   ],
   "source": [
    "#Visualizing the data with model 7\n",
    "plt.scatter(x,y, color='black', label='Raw Data')\n",
    "plt.plot(polyline, model7(polyline), '-', color='firebrick', label='Fitted Curve')\n",
    "plt.xlabel('Year')\n",
    "plt.ylabel('Number of Movies and TV Shows')\n",
    "plt.title('Number of Movies and TV Shows Added on Neflix Per Year')\n",
    "plt.legend()\n",
    "plt.show()\n",
    "plt.show()"
   ]
  },
  {
   "cell_type": "markdown",
   "id": "15246ee8",
   "metadata": {},
   "source": [
    "### Equation of Curve "
   ]
  },
  {
   "cell_type": "code",
   "execution_count": 44,
   "id": "a97b5fbf",
   "metadata": {},
   "outputs": [
    {
     "name": "stdout",
     "output_type": "stream",
     "text": [
      "            7             6           5         4             3\n",
      "-8.583e-09 x + 5.678e-05 x - 0.08462 x - 149.5 x + 3.025e+05 x\n",
      "              2\n",
      " + 6.837e+08 x - 1.867e+12 x + 1.144e+15\n"
     ]
    }
   ],
   "source": [
    "eq = model7\n",
    "print(np.poly1d(eq))"
   ]
  },
  {
   "cell_type": "code",
   "execution_count": 63,
   "id": "04dac2ce",
   "metadata": {},
   "outputs": [
    {
     "name": "stdout",
     "output_type": "stream",
     "text": [
      "-340.0\n"
     ]
    }
   ],
   "source": [
    "#Can use the equation to predict the number of movies and tv shows added to netflix in future years \n",
    "def predict(year):\n",
    "    return eq(year)\n",
    "print(predict(2022))"
   ]
  },
  {
   "cell_type": "code",
   "execution_count": null,
   "id": "9d365cb5",
   "metadata": {},
   "outputs": [],
   "source": []
  }
 ],
 "metadata": {
  "kernelspec": {
   "display_name": "Python 3 (ipykernel)",
   "language": "python",
   "name": "python3"
  },
  "language_info": {
   "codemirror_mode": {
    "name": "ipython",
    "version": 3
   },
   "file_extension": ".py",
   "mimetype": "text/x-python",
   "name": "python",
   "nbconvert_exporter": "python",
   "pygments_lexer": "ipython3",
   "version": "3.8.8"
  }
 },
 "nbformat": 4,
 "nbformat_minor": 5
}
