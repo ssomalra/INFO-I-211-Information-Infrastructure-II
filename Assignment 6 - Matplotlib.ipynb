{
 "cells": [
  {
   "cell_type": "code",
   "execution_count": 1,
   "id": "c3cbf19f",
   "metadata": {},
   "outputs": [],
   "source": [
    "import matplotlib.pyplot as plt"
   ]
  },
  {
   "cell_type": "markdown",
   "id": "46162b27",
   "metadata": {},
   "source": [
    "### Question 1\n",
    "Represent the ice cream sale with respect to temperature using appropriate plot and comment on the sales of ice cream. Also, represent data where the temperature is greater than or equal to 80 with different color.\n",
    "\n",
    "- x=[50,62,67,70,71,73,70,80,88,87,84,82,90,100,97,100,97,94,100] \n",
    "- y=[3,11,14,40,45,47,58,69,73,78,75,72,70,98,95,90,93,99,89]"
   ]
  },
  {
   "cell_type": "code",
   "execution_count": 25,
   "id": "47c70a07",
   "metadata": {},
   "outputs": [
    {
     "data": {
      "image/png": "[encoded data removed]",
      "text/plain": [
       "<Figure size 432x288 with 1 Axes>"
      ]
     },
     "metadata": {
      "needs_background": "light"
     },
     "output_type": "display_data"
    }
   ],
   "source": [
    "temperature=[50,62,67,70,71,73,70,80,88,87,84,82,90,100,97,100,97,94,100]\n",
    "ice_cream_sale=[3,11,14,40,45,47,58,69,73,78,75,72,70,98,95,90,93,99,89]\n",
    "\n",
    "# represent data where the temperature is greater than or equal to 80 with a different color\n",
    "temperature_filter = [temp for temp in temperature if temp >= 80]\n",
    "ice_cream_sale_filter = ice_cream_sale[(len(ice_cream_sale)-len(temperature_filter)):]\n",
    "\n",
    "# make scatterplot\n",
    "plt.scatter(temperature, ice_cream_sale, c='pink')\n",
    "plt.scatter(temperature_filter, ice_cream_sale_filter, c='red')\n",
    "\n",
    "# labels\n",
    "plt.xlabel('Temperature')\n",
    "plt.ylabel('Sales of Ice Cream')\n",
    "plt.title('Temperature vs Sales of Ice Cream')\n",
    "\n",
    "plt.show()"
   ]
  },
  {
   "cell_type": "markdown",
   "id": "a28034fc",
   "metadata": {},
   "source": [
    "As the temperature increases, the sales of ice cream increases. \n",
    "In other words, there is a positive, linear relationship between temperature and the sales of ice cream.\n",
    "    \n",
    "    "
   ]
  },
  {
   "cell_type": "markdown",
   "id": "d6b2a990",
   "metadata": {},
   "source": [
    "### Question 2\n",
    "Draw a suitable plot to analyze a dataset composed of two ordered numeric variables. It considers the evolution of the bitcoin price between April 2013 and April 2018. \n",
    "\n",
    "Dataset url: https://raw.githubusercontent.com/holtzy/data_to_viz/master/Example_dataset/3_TwoNumOrdered.csv"
   ]
  },
  {
   "cell_type": "code",
   "execution_count": 43,
   "id": "9430bfe9",
   "metadata": {},
   "outputs": [
    {
     "data": {
      "text/html": [
       "<div>\n",
       "<style scoped>\n",
       "    .dataframe tbody tr th:only-of-type {\n",
       "        vertical-align: middle;\n",
       "    }\n",
       "\n",
       "    .dataframe tbody tr th {\n",
       "        vertical-align: top;\n",
       "    }\n",
       "\n",
       "    .dataframe thead th {\n",
       "        text-align: right;\n",
       "    }\n",
       "</style>\n",
       "<table border=\"1\" class=\"dataframe\">\n",
       "  <thead>\n",
       "    <tr style=\"text-align: right;\">\n",
       "      <th></th>\n",
       "      <th>date</th>\n",
       "      <th>value</th>\n",
       "    </tr>\n",
       "  </thead>\n",
       "  <tbody>\n",
       "    <tr>\n",
       "      <th>0</th>\n",
       "      <td>2013-04-28</td>\n",
       "      <td>135.98</td>\n",
       "    </tr>\n",
       "    <tr>\n",
       "      <th>1</th>\n",
       "      <td>2013-04-29</td>\n",
       "      <td>147.49</td>\n",
       "    </tr>\n",
       "    <tr>\n",
       "      <th>2</th>\n",
       "      <td>2013-04-30</td>\n",
       "      <td>146.93</td>\n",
       "    </tr>\n",
       "    <tr>\n",
       "      <th>3</th>\n",
       "      <td>2013-05-01</td>\n",
       "      <td>139.89</td>\n",
       "    </tr>\n",
       "    <tr>\n",
       "      <th>4</th>\n",
       "      <td>2013-05-02</td>\n",
       "      <td>125.60</td>\n",
       "    </tr>\n",
       "    <tr>\n",
       "      <th>...</th>\n",
       "      <td>...</td>\n",
       "      <td>...</td>\n",
       "    </tr>\n",
       "    <tr>\n",
       "      <th>1817</th>\n",
       "      <td>2018-04-19</td>\n",
       "      <td>8298.69</td>\n",
       "    </tr>\n",
       "    <tr>\n",
       "      <th>1818</th>\n",
       "      <td>2018-04-20</td>\n",
       "      <td>8880.23</td>\n",
       "    </tr>\n",
       "    <tr>\n",
       "      <th>1819</th>\n",
       "      <td>2018-04-21</td>\n",
       "      <td>8997.57</td>\n",
       "    </tr>\n",
       "    <tr>\n",
       "      <th>1820</th>\n",
       "      <td>2018-04-22</td>\n",
       "      <td>9001.64</td>\n",
       "    </tr>\n",
       "    <tr>\n",
       "      <th>1821</th>\n",
       "      <td>2018-04-23</td>\n",
       "      <td>8958.55</td>\n",
       "    </tr>\n",
       "  </tbody>\n",
       "</table>\n",
       "<p>1822 rows × 2 columns</p>\n",
       "</div>"
      ],
      "text/plain": [
       "            date    value\n",
       "0     2013-04-28   135.98\n",
       "1     2013-04-29   147.49\n",
       "2     2013-04-30   146.93\n",
       "3     2013-05-01   139.89\n",
       "4     2013-05-02   125.60\n",
       "...          ...      ...\n",
       "1817  2018-04-19  8298.69\n",
       "1818  2018-04-20  8880.23\n",
       "1819  2018-04-21  8997.57\n",
       "1820  2018-04-22  9001.64\n",
       "1821  2018-04-23  8958.55\n",
       "\n",
       "[1822 rows x 2 columns]"
      ]
     },
     "execution_count": 43,
     "metadata": {},
     "output_type": "execute_result"
    }
   ],
   "source": [
    "import pandas as pd\n",
    "download_url = ('https://raw.githubusercontent.com/holtzy/data_to_viz/master/Example_dataset/3_TwoNumOrdered.csv')\n",
    "df = pd.read_csv(download_url, delimiter=' ')\n",
    "df\n"
   ]
  },
  {
   "cell_type": "code",
   "execution_count": 45,
   "id": "f5640746",
   "metadata": {},
   "outputs": [
    {
     "data": {
      "text/html": [
       "<div>\n",
       "<style scoped>\n",
       "    .dataframe tbody tr th:only-of-type {\n",
       "        vertical-align: middle;\n",
       "    }\n",
       "\n",
       "    .dataframe tbody tr th {\n",
       "        vertical-align: top;\n",
       "    }\n",
       "\n",
       "    .dataframe thead th {\n",
       "        text-align: right;\n",
       "    }\n",
       "</style>\n",
       "<table border=\"1\" class=\"dataframe\">\n",
       "  <thead>\n",
       "    <tr style=\"text-align: right;\">\n",
       "      <th></th>\n",
       "      <th>date</th>\n",
       "      <th>value</th>\n",
       "    </tr>\n",
       "  </thead>\n",
       "  <tbody>\n",
       "    <tr>\n",
       "      <th>0</th>\n",
       "      <td>2013-04-28</td>\n",
       "      <td>135.98</td>\n",
       "    </tr>\n",
       "    <tr>\n",
       "      <th>1</th>\n",
       "      <td>2013-04-29</td>\n",
       "      <td>147.49</td>\n",
       "    </tr>\n",
       "    <tr>\n",
       "      <th>2</th>\n",
       "      <td>2013-04-30</td>\n",
       "      <td>146.93</td>\n",
       "    </tr>\n",
       "    <tr>\n",
       "      <th>3</th>\n",
       "      <td>2013-05-01</td>\n",
       "      <td>139.89</td>\n",
       "    </tr>\n",
       "    <tr>\n",
       "      <th>4</th>\n",
       "      <td>2013-05-02</td>\n",
       "      <td>125.60</td>\n",
       "    </tr>\n",
       "    <tr>\n",
       "      <th>...</th>\n",
       "      <td>...</td>\n",
       "      <td>...</td>\n",
       "    </tr>\n",
       "    <tr>\n",
       "      <th>1794</th>\n",
       "      <td>2018-03-27</td>\n",
       "      <td>8232.78</td>\n",
       "    </tr>\n",
       "    <tr>\n",
       "      <th>1795</th>\n",
       "      <td>2018-03-28</td>\n",
       "      <td>8122.89</td>\n",
       "    </tr>\n",
       "    <tr>\n",
       "      <th>1796</th>\n",
       "      <td>2018-03-29</td>\n",
       "      <td>7994.33</td>\n",
       "    </tr>\n",
       "    <tr>\n",
       "      <th>1797</th>\n",
       "      <td>2018-03-30</td>\n",
       "      <td>7276.66</td>\n",
       "    </tr>\n",
       "    <tr>\n",
       "      <th>1798</th>\n",
       "      <td>2018-03-31</td>\n",
       "      <td>7207.85</td>\n",
       "    </tr>\n",
       "  </tbody>\n",
       "</table>\n",
       "<p>1799 rows × 2 columns</p>\n",
       "</div>"
      ],
      "text/plain": [
       "            date    value\n",
       "0     2013-04-28   135.98\n",
       "1     2013-04-29   147.49\n",
       "2     2013-04-30   146.93\n",
       "3     2013-05-01   139.89\n",
       "4     2013-05-02   125.60\n",
       "...          ...      ...\n",
       "1794  2018-03-27  8232.78\n",
       "1795  2018-03-28  8122.89\n",
       "1796  2018-03-29  7994.33\n",
       "1797  2018-03-30  7276.66\n",
       "1798  2018-03-31  7207.85\n",
       "\n",
       "[1799 rows x 2 columns]"
      ]
     },
     "execution_count": 45,
     "metadata": {},
     "output_type": "execute_result"
    }
   ],
   "source": [
    "# filter the dataframe between the two dates\n",
    "filtered_df = df.loc[(df['date'] >= '2013-04-01') & (df['date'] < '2018-04-01')]\n",
    "filtered_df"
   ]
  },
  {
   "cell_type": "code",
   "execution_count": 123,
   "id": "9a3c2ad7",
   "metadata": {},
   "outputs": [
    {
     "data": {
      "text/plain": [
       "<AxesSubplot:title={'center':'Evolution of Bitcoin between April 2013 and April 2018'}, xlabel='Date', ylabel='Bitcoin Price'>"
      ]
     },
     "execution_count": 123,
     "metadata": {},
     "output_type": "execute_result"
    },
    {
     "data": {
      "image/png": "[encoded data removed]",
      "text/plain": [
       "<Figure size 432x288 with 1 Axes>"
      ]
     },
     "metadata": {
      "needs_background": "light"
     },
     "output_type": "display_data"
    }
   ],
   "source": [
    "# plot\n",
    "filtered_df.plot(x='date', y='value', xlabel='Date', ylabel='Bitcoin Price', rot=45, title='Evolution of Bitcoin between April 2013 and April 2018', color='maroon')"
   ]
  },
  {
   "cell_type": "markdown",
   "id": "a17e8c30",
   "metadata": {},
   "source": [
    "### Question 3\n",
    "Explore the cities in different countries. Plot an appropriate graph to see the counts of cities in each country."
   ]
  },
  {
   "cell_type": "code",
   "execution_count": 53,
   "id": "2d34bdce",
   "metadata": {},
   "outputs": [
    {
     "data": {
      "text/html": [
       "<div>\n",
       "<style scoped>\n",
       "    .dataframe tbody tr th:only-of-type {\n",
       "        vertical-align: middle;\n",
       "    }\n",
       "\n",
       "    .dataframe tbody tr th {\n",
       "        vertical-align: top;\n",
       "    }\n",
       "\n",
       "    .dataframe thead th {\n",
       "        text-align: right;\n",
       "    }\n",
       "</style>\n",
       "<table border=\"1\" class=\"dataframe\">\n",
       "  <thead>\n",
       "    <tr style=\"text-align: right;\">\n",
       "      <th></th>\n",
       "      <th>City</th>\n",
       "      <th>Country</th>\n",
       "      <th>Latitude</th>\n",
       "      <th>Longitude</th>\n",
       "    </tr>\n",
       "  </thead>\n",
       "  <tbody>\n",
       "    <tr>\n",
       "      <th>0</th>\n",
       "      <td>Vancouver</td>\n",
       "      <td>Canada</td>\n",
       "      <td>49.249660</td>\n",
       "      <td>-123.119339</td>\n",
       "    </tr>\n",
       "    <tr>\n",
       "      <th>1</th>\n",
       "      <td>Portland</td>\n",
       "      <td>United States</td>\n",
       "      <td>45.523449</td>\n",
       "      <td>-122.676208</td>\n",
       "    </tr>\n",
       "    <tr>\n",
       "      <th>2</th>\n",
       "      <td>San Francisco</td>\n",
       "      <td>United States</td>\n",
       "      <td>37.774929</td>\n",
       "      <td>-122.419418</td>\n",
       "    </tr>\n",
       "    <tr>\n",
       "      <th>3</th>\n",
       "      <td>Seattle</td>\n",
       "      <td>United States</td>\n",
       "      <td>47.606209</td>\n",
       "      <td>-122.332069</td>\n",
       "    </tr>\n",
       "    <tr>\n",
       "      <th>4</th>\n",
       "      <td>Los Angeles</td>\n",
       "      <td>United States</td>\n",
       "      <td>34.052231</td>\n",
       "      <td>-118.243683</td>\n",
       "    </tr>\n",
       "    <tr>\n",
       "      <th>5</th>\n",
       "      <td>San Diego</td>\n",
       "      <td>United States</td>\n",
       "      <td>32.715328</td>\n",
       "      <td>-117.157257</td>\n",
       "    </tr>\n",
       "    <tr>\n",
       "      <th>6</th>\n",
       "      <td>Las Vegas</td>\n",
       "      <td>United States</td>\n",
       "      <td>36.174969</td>\n",
       "      <td>-115.137222</td>\n",
       "    </tr>\n",
       "    <tr>\n",
       "      <th>7</th>\n",
       "      <td>Phoenix</td>\n",
       "      <td>United States</td>\n",
       "      <td>33.448380</td>\n",
       "      <td>-112.074043</td>\n",
       "    </tr>\n",
       "    <tr>\n",
       "      <th>8</th>\n",
       "      <td>Albuquerque</td>\n",
       "      <td>United States</td>\n",
       "      <td>35.084492</td>\n",
       "      <td>-106.651138</td>\n",
       "    </tr>\n",
       "    <tr>\n",
       "      <th>9</th>\n",
       "      <td>Denver</td>\n",
       "      <td>United States</td>\n",
       "      <td>39.739151</td>\n",
       "      <td>-104.984703</td>\n",
       "    </tr>\n",
       "  </tbody>\n",
       "</table>\n",
       "</div>"
      ],
      "text/plain": [
       "            City        Country   Latitude   Longitude\n",
       "0      Vancouver         Canada  49.249660 -123.119339\n",
       "1       Portland  United States  45.523449 -122.676208\n",
       "2  San Francisco  United States  37.774929 -122.419418\n",
       "3        Seattle  United States  47.606209 -122.332069\n",
       "4    Los Angeles  United States  34.052231 -118.243683\n",
       "5      San Diego  United States  32.715328 -117.157257\n",
       "6      Las Vegas  United States  36.174969 -115.137222\n",
       "7        Phoenix  United States  33.448380 -112.074043\n",
       "8    Albuquerque  United States  35.084492 -106.651138\n",
       "9         Denver  United States  39.739151 -104.984703"
      ]
     },
     "execution_count": 53,
     "metadata": {},
     "output_type": "execute_result"
    }
   ],
   "source": [
    "city_attributes = pd.read_csv('/Users/sahitisomalraju/Downloads/city_attributes.csv')\n",
    "city_attributes.head(10)"
   ]
  },
  {
   "cell_type": "code",
   "execution_count": 125,
   "id": "631e8459",
   "metadata": {},
   "outputs": [
    {
     "name": "stdout",
     "output_type": "stream",
     "text": [
      "['Canada' 'Israel' 'United States'] [ 3  6 27]\n"
     ]
    },
    {
     "data": {
      "image/png": "[encoded data removed]",
      "text/plain": [
       "<Figure size 432x288 with 1 Axes>"
      ]
     },
     "metadata": {
      "needs_background": "light"
     },
     "output_type": "display_data"
    }
   ],
   "source": [
    "import numpy as np\n",
    "\n",
    "# get counts of unique cities in each country\n",
    "countries = city_attributes['Country']\n",
    "values, counts = np.unique(countries, return_counts=True)\n",
    "print(values, counts)\n",
    "\n",
    "# plot the number of cities in each country\n",
    "plt.bar(values, counts, color='darkolivegreen')\n",
    "\n",
    "# labelling\n",
    "plt.xlabel('Country')\n",
    "plt.ylabel('Number of Cities')\n",
    "plt.title('Number of Cities per Country')\n",
    "\n",
    "plt.show()"
   ]
  },
  {
   "cell_type": "markdown",
   "id": "aec656a1",
   "metadata": {},
   "source": [
    "### Question 4\n",
    "Load the iris dataset and compare the sepal length and width features using an appropriate plot. Comment on the plot."
   ]
  },
  {
   "cell_type": "code",
   "execution_count": 58,
   "id": "d6af9c59",
   "metadata": {},
   "outputs": [],
   "source": [
    "from sklearn import datasets"
   ]
  },
  {
   "cell_type": "code",
   "execution_count": 62,
   "id": "46f7a81d",
   "metadata": {},
   "outputs": [
    {
     "data": {
      "text/html": [
       "<div>\n",
       "<style scoped>\n",
       "    .dataframe tbody tr th:only-of-type {\n",
       "        vertical-align: middle;\n",
       "    }\n",
       "\n",
       "    .dataframe tbody tr th {\n",
       "        vertical-align: top;\n",
       "    }\n",
       "\n",
       "    .dataframe thead th {\n",
       "        text-align: right;\n",
       "    }\n",
       "</style>\n",
       "<table border=\"1\" class=\"dataframe\">\n",
       "  <thead>\n",
       "    <tr style=\"text-align: right;\">\n",
       "      <th></th>\n",
       "      <th>sepal length (cm)</th>\n",
       "      <th>sepal width (cm)</th>\n",
       "      <th>petal length (cm)</th>\n",
       "      <th>petal width (cm)</th>\n",
       "    </tr>\n",
       "  </thead>\n",
       "  <tbody>\n",
       "    <tr>\n",
       "      <th>0</th>\n",
       "      <td>5.1</td>\n",
       "      <td>3.5</td>\n",
       "      <td>1.4</td>\n",
       "      <td>0.2</td>\n",
       "    </tr>\n",
       "    <tr>\n",
       "      <th>1</th>\n",
       "      <td>4.9</td>\n",
       "      <td>3.0</td>\n",
       "      <td>1.4</td>\n",
       "      <td>0.2</td>\n",
       "    </tr>\n",
       "    <tr>\n",
       "      <th>2</th>\n",
       "      <td>4.7</td>\n",
       "      <td>3.2</td>\n",
       "      <td>1.3</td>\n",
       "      <td>0.2</td>\n",
       "    </tr>\n",
       "    <tr>\n",
       "      <th>3</th>\n",
       "      <td>4.6</td>\n",
       "      <td>3.1</td>\n",
       "      <td>1.5</td>\n",
       "      <td>0.2</td>\n",
       "    </tr>\n",
       "    <tr>\n",
       "      <th>4</th>\n",
       "      <td>5.0</td>\n",
       "      <td>3.6</td>\n",
       "      <td>1.4</td>\n",
       "      <td>0.2</td>\n",
       "    </tr>\n",
       "    <tr>\n",
       "      <th>...</th>\n",
       "      <td>...</td>\n",
       "      <td>...</td>\n",
       "      <td>...</td>\n",
       "      <td>...</td>\n",
       "    </tr>\n",
       "    <tr>\n",
       "      <th>145</th>\n",
       "      <td>6.7</td>\n",
       "      <td>3.0</td>\n",
       "      <td>5.2</td>\n",
       "      <td>2.3</td>\n",
       "    </tr>\n",
       "    <tr>\n",
       "      <th>146</th>\n",
       "      <td>6.3</td>\n",
       "      <td>2.5</td>\n",
       "      <td>5.0</td>\n",
       "      <td>1.9</td>\n",
       "    </tr>\n",
       "    <tr>\n",
       "      <th>147</th>\n",
       "      <td>6.5</td>\n",
       "      <td>3.0</td>\n",
       "      <td>5.2</td>\n",
       "      <td>2.0</td>\n",
       "    </tr>\n",
       "    <tr>\n",
       "      <th>148</th>\n",
       "      <td>6.2</td>\n",
       "      <td>3.4</td>\n",
       "      <td>5.4</td>\n",
       "      <td>2.3</td>\n",
       "    </tr>\n",
       "    <tr>\n",
       "      <th>149</th>\n",
       "      <td>5.9</td>\n",
       "      <td>3.0</td>\n",
       "      <td>5.1</td>\n",
       "      <td>1.8</td>\n",
       "    </tr>\n",
       "  </tbody>\n",
       "</table>\n",
       "<p>150 rows × 4 columns</p>\n",
       "</div>"
      ],
      "text/plain": [
       "     sepal length (cm)  sepal width (cm)  petal length (cm)  petal width (cm)\n",
       "0                  5.1               3.5                1.4               0.2\n",
       "1                  4.9               3.0                1.4               0.2\n",
       "2                  4.7               3.2                1.3               0.2\n",
       "3                  4.6               3.1                1.5               0.2\n",
       "4                  5.0               3.6                1.4               0.2\n",
       "..                 ...               ...                ...               ...\n",
       "145                6.7               3.0                5.2               2.3\n",
       "146                6.3               2.5                5.0               1.9\n",
       "147                6.5               3.0                5.2               2.0\n",
       "148                6.2               3.4                5.4               2.3\n",
       "149                5.9               3.0                5.1               1.8\n",
       "\n",
       "[150 rows x 4 columns]"
      ]
     },
     "execution_count": 62,
     "metadata": {},
     "output_type": "execute_result"
    }
   ],
   "source": [
    "iris = datasets.load_iris()\n",
    "df = pd.DataFrame(iris.data, columns=iris.feature_names)\n",
    "df"
   ]
  },
  {
   "cell_type": "code",
   "execution_count": 118,
   "id": "7026ceb3",
   "metadata": {},
   "outputs": [
    {
     "data": {
      "text/plain": [
       "<function matplotlib.pyplot.show(close=None, block=None)>"
      ]
     },
     "execution_count": 118,
     "metadata": {},
     "output_type": "execute_result"
    },
    {
     "data": {
      "image/png": "[encoded data removed]",
      "text/plain": [
       "<Figure size 432x288 with 1 Axes>"
      ]
     },
     "metadata": {
      "needs_background": "light"
     },
     "output_type": "display_data"
    }
   ],
   "source": [
    "# plot sepal length vs sepal width\n",
    "sepal_length = df['sepal length (cm)']\n",
    "sepal_width = df['sepal width (cm)']\n",
    "plt.hist(sepal_length, label='Sepal Length', color='lightblue')\n",
    "plt.hist(sepal_width, label='Sepal Width', color='royalblue')\n",
    "\n",
    "# labelling\n",
    "plt.title('Distribution of Sepal Length and Sepal Width')\n",
    "plt.xlabel('Measurement (cm)')\n",
    "plt.ylabel('Counts')\n",
    "plt.legend()\n",
    "plt.show"
   ]
  },
  {
   "cell_type": "markdown",
   "id": "f8629ba2",
   "metadata": {},
   "source": [
    "The distribution of sepal width is lower with a median at around 3cm compared to the sepal length's distribution, which is much higher and has a median at around 6cm. Furthermore, the sepal width distribution seems to be approximately Normal, while the sepal length distribution is slightly skewed to the right.  "
   ]
  },
  {
   "cell_type": "markdown",
   "id": "a412e51f",
   "metadata": {},
   "source": [
    "### Question 5\n",
    "Load the iris dataset and plot a graph to show outliers in the Sepal width data."
   ]
  },
  {
   "cell_type": "code",
   "execution_count": 120,
   "id": "c49a5f1d",
   "metadata": {},
   "outputs": [
    {
     "data": {
      "image/png": "[encoded data removed]",
      "text/plain": [
       "<Figure size 432x288 with 1 Axes>"
      ]
     },
     "metadata": {
      "needs_background": "light"
     },
     "output_type": "display_data"
    }
   ],
   "source": [
    "sepal_width = df['sepal width (cm)']\n",
    "plt.boxplot(sepal_width)\n",
    "\n",
    "plt.ylabel('Sepal Width (cm)')\n",
    "plt.title('Distribution of Sepal Widths (cm)')\n",
    "plt.show()"
   ]
  }
 ],
 "metadata": {
  "kernelspec": {
   "display_name": "Python 3 (ipykernel)",
   "language": "python",
   "name": "python3"
  },
  "language_info": {
   "codemirror_mode": {
    "name": "ipython",
    "version": 3
   },
   "file_extension": ".py",
   "mimetype": "text/x-python",
   "name": "python",
   "nbconvert_exporter": "python",
   "pygments_lexer": "ipython3",
   "version": "3.8.8"
  }
 },
 "nbformat": 4,
 "nbformat_minor": 5
}
